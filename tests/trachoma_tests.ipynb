{
 "cells": [
  {
   "cell_type": "markdown",
   "metadata": {},
   "source": [
    "# Testing of Trachoma Simulation Python Module"
   ]
  },
  {
   "cell_type": "markdown",
   "metadata": {},
   "source": [
    "Import `numpy`, `pandas` and `matplotlib`. Note that `matplotlib` is not needed for running the simulations, it is only used for plotting the results."
   ]
  },
  {
   "cell_type": "code",
   "execution_count": 1,
   "metadata": {},
   "outputs": [],
   "source": [
    "import numpy as np\n",
    "import pandas as pd\n",
    "import matplotlib.pyplot as plt\n",
    "\n",
    "%matplotlib inline\n",
    "plt.rcParams['figure.figsize'] = [12, 6]"
   ]
  },
  {
   "cell_type": "markdown",
   "metadata": {},
   "source": [
    "Import the `Trachoma_Simulation()` function from the `trachoma_simulations` module in the `trachoma package`."
   ]
  },
  {
   "cell_type": "code",
   "execution_count": 2,
   "metadata": {},
   "outputs": [],
   "source": [
    "from trachoma.trachoma_simulations import Trachoma_Simulation"
   ]
  },
  {
   "cell_type": "markdown",
   "metadata": {},
   "source": [
    "The inputs of the `Trachoma_Simulation()` function are the following:"
   ]
  },
  {
   "cell_type": "markdown",
   "metadata": {},
   "source": [
    "\n",
    "    BetFilePath: str\n",
    "        This is the path to the input CSV file with the\n",
    "        random seed and beta to be used for each simulation.\n",
    "\n",
    "    MDAFilePath: str\n",
    "        This is the path to the input CSV file with the\n",
    "        first and last year of the simulations and with\n",
    "        the first and last year of MDA.\n",
    "\n",
    "    PrevFilePath: str\n",
    "        This is the path where the output CSV file with\n",
    "        the simulated prevalence will be saved.\n",
    "\n",
    "    SaveOutput: bool\n",
    "        If True, the last state of the simulations will\n",
    "        be saved in a pickle file. If False, the last\n",
    "        state of the simulations will not be saved.\n",
    "\n",
    "    OutSimFilePath: str\n",
    "        This is the path where the output pickle file with\n",
    "        the last state of the simulations will be saved. It\n",
    "        is only required when SaveOutput = True.\n",
    "\n",
    "    InSimFilePath: str\n",
    "        This is the path where the input pickle file with\n",
    "        the last state of the simulations has been saved.\n",
    "        If this is provided, the code will skip the burnin\n",
    "        and resume the simulations from this state. If this\n",
    "        is not provided, the code will start the simulations\n",
    "        from scratch, including the burnin.\n",
    "        "
   ]
  },
  {
   "cell_type": "markdown",
   "metadata": {},
   "source": [
    "The `Trachoma_Simulation()` function saves the output CSV file with the simulated prevalence (and, if required, the output pickle file with the final state of the simulations) in the specified paths. Apart from that, the `Trachoma_Simulation()` function does not return any objects."
   ]
  },
  {
   "cell_type": "markdown",
   "metadata": {},
   "source": [
    "## Scenario 1"
   ]
  },
  {
   "cell_type": "markdown",
   "metadata": {},
   "source": [
    "The simulations start in 2014 and end in 2020, while the MDA starts in 2015 and ends in 2019."
   ]
  },
  {
   "cell_type": "code",
   "execution_count": 3,
   "metadata": {},
   "outputs": [
    {
     "name": "stdout",
     "output_type": "stream",
     "text": [
      "Running time: 90 seconds.\n"
     ]
    }
   ],
   "source": [
    "BetFilePath = 'files/InputBet_scen1.csv'  \n",
    "MDAFilePath = 'files/InputMDA_scen1.csv' \n",
    "PrevFilePath = 'files/OutputPrev_scen1.csv'\n",
    "\n",
    "Trachoma_Simulation(BetFilePath=BetFilePath,\n",
    "                    MDAFilePath=MDAFilePath,\n",
    "                    PrevFilePath=PrevFilePath,\n",
    "                    SaveOutput=False,\n",
    "                    OutSimFilePath=None,\n",
    "                    InSimFilePath=None)"
   ]
  },
  {
   "cell_type": "markdown",
   "metadata": {},
   "source": [
    "Import the output CSV file with the simulated prevalence."
   ]
  },
  {
   "cell_type": "code",
   "execution_count": 4,
   "metadata": {},
   "outputs": [],
   "source": [
    "out1 = pd.read_csv('files/OutputPrev_scen1.csv')"
   ]
  },
  {
   "cell_type": "markdown",
   "metadata": {},
   "source": [
    "Display the first few rows."
   ]
  },
  {
   "cell_type": "code",
   "execution_count": 5,
   "metadata": {},
   "outputs": [
    {
     "data": {
      "text/html": [
       "<div>\n",
       "<style scoped>\n",
       "    .dataframe tbody tr th:only-of-type {\n",
       "        vertical-align: middle;\n",
       "    }\n",
       "\n",
       "    .dataframe tbody tr th {\n",
       "        vertical-align: top;\n",
       "    }\n",
       "\n",
       "    .dataframe thead th {\n",
       "        text-align: right;\n",
       "    }\n",
       "</style>\n",
       "<table border=\"1\" class=\"dataframe\">\n",
       "  <thead>\n",
       "    <tr style=\"text-align: right;\">\n",
       "      <th></th>\n",
       "      <th>Random Generator</th>\n",
       "      <th>bet</th>\n",
       "      <th>02-2014</th>\n",
       "      <th>04-2014</th>\n",
       "      <th>06-2014</th>\n",
       "      <th>08-2014</th>\n",
       "      <th>10-2014</th>\n",
       "      <th>12-2014</th>\n",
       "      <th>02-2015</th>\n",
       "      <th>04-2015</th>\n",
       "      <th>...</th>\n",
       "      <th>06-2019</th>\n",
       "      <th>08-2019</th>\n",
       "      <th>10-2019</th>\n",
       "      <th>12-2019</th>\n",
       "      <th>02-2020</th>\n",
       "      <th>04-2020</th>\n",
       "      <th>06-2020</th>\n",
       "      <th>08-2020</th>\n",
       "      <th>10-2020</th>\n",
       "      <th>12-2020</th>\n",
       "    </tr>\n",
       "  </thead>\n",
       "  <tbody>\n",
       "    <tr>\n",
       "      <th>0</th>\n",
       "      <td>1</td>\n",
       "      <td>0.085038</td>\n",
       "      <td>0.165179</td>\n",
       "      <td>0.152466</td>\n",
       "      <td>0.140909</td>\n",
       "      <td>0.112108</td>\n",
       "      <td>0.109091</td>\n",
       "      <td>0.110092</td>\n",
       "      <td>0.123288</td>\n",
       "      <td>0.126126</td>\n",
       "      <td>...</td>\n",
       "      <td>0.024390</td>\n",
       "      <td>0.020243</td>\n",
       "      <td>0.016327</td>\n",
       "      <td>0.016129</td>\n",
       "      <td>0.011952</td>\n",
       "      <td>0.000000</td>\n",
       "      <td>0.000000</td>\n",
       "      <td>0.000000</td>\n",
       "      <td>0.003953</td>\n",
       "      <td>0.015748</td>\n",
       "    </tr>\n",
       "    <tr>\n",
       "      <th>1</th>\n",
       "      <td>2</td>\n",
       "      <td>0.169913</td>\n",
       "      <td>0.446154</td>\n",
       "      <td>0.429119</td>\n",
       "      <td>0.432950</td>\n",
       "      <td>0.362595</td>\n",
       "      <td>0.352273</td>\n",
       "      <td>0.356589</td>\n",
       "      <td>0.325490</td>\n",
       "      <td>0.310757</td>\n",
       "      <td>...</td>\n",
       "      <td>0.033058</td>\n",
       "      <td>0.029536</td>\n",
       "      <td>0.033333</td>\n",
       "      <td>0.032787</td>\n",
       "      <td>0.028689</td>\n",
       "      <td>0.020243</td>\n",
       "      <td>0.012048</td>\n",
       "      <td>0.012048</td>\n",
       "      <td>0.008000</td>\n",
       "      <td>0.003968</td>\n",
       "    </tr>\n",
       "    <tr>\n",
       "      <th>2</th>\n",
       "      <td>3</td>\n",
       "      <td>0.210453</td>\n",
       "      <td>0.433333</td>\n",
       "      <td>0.434599</td>\n",
       "      <td>0.506276</td>\n",
       "      <td>0.559184</td>\n",
       "      <td>0.576613</td>\n",
       "      <td>0.568465</td>\n",
       "      <td>0.481013</td>\n",
       "      <td>0.471861</td>\n",
       "      <td>...</td>\n",
       "      <td>0.155738</td>\n",
       "      <td>0.154167</td>\n",
       "      <td>0.123457</td>\n",
       "      <td>0.122951</td>\n",
       "      <td>0.127049</td>\n",
       "      <td>0.134146</td>\n",
       "      <td>0.152000</td>\n",
       "      <td>0.188235</td>\n",
       "      <td>0.219608</td>\n",
       "      <td>0.285156</td>\n",
       "    </tr>\n",
       "    <tr>\n",
       "      <th>3</th>\n",
       "      <td>4</td>\n",
       "      <td>0.099770</td>\n",
       "      <td>0.248705</td>\n",
       "      <td>0.252525</td>\n",
       "      <td>0.226131</td>\n",
       "      <td>0.214286</td>\n",
       "      <td>0.226131</td>\n",
       "      <td>0.208955</td>\n",
       "      <td>0.188406</td>\n",
       "      <td>0.180095</td>\n",
       "      <td>...</td>\n",
       "      <td>0.030075</td>\n",
       "      <td>0.026515</td>\n",
       "      <td>0.026415</td>\n",
       "      <td>0.022642</td>\n",
       "      <td>0.022727</td>\n",
       "      <td>0.019011</td>\n",
       "      <td>0.019084</td>\n",
       "      <td>0.018939</td>\n",
       "      <td>0.015209</td>\n",
       "      <td>0.019084</td>\n",
       "    </tr>\n",
       "    <tr>\n",
       "      <th>4</th>\n",
       "      <td>5</td>\n",
       "      <td>0.068314</td>\n",
       "      <td>0.139344</td>\n",
       "      <td>0.135021</td>\n",
       "      <td>0.119149</td>\n",
       "      <td>0.128205</td>\n",
       "      <td>0.111588</td>\n",
       "      <td>0.085837</td>\n",
       "      <td>0.085106</td>\n",
       "      <td>0.088235</td>\n",
       "      <td>...</td>\n",
       "      <td>0.007874</td>\n",
       "      <td>0.007782</td>\n",
       "      <td>0.007605</td>\n",
       "      <td>0.003817</td>\n",
       "      <td>0.011364</td>\n",
       "      <td>0.015267</td>\n",
       "      <td>0.022901</td>\n",
       "      <td>0.022222</td>\n",
       "      <td>0.025830</td>\n",
       "      <td>0.028674</td>\n",
       "    </tr>\n",
       "  </tbody>\n",
       "</table>\n",
       "<p>5 rows × 44 columns</p>\n",
       "</div>"
      ],
      "text/plain": [
       "   Random Generator       bet   02-2014   04-2014   06-2014   08-2014  \\\n",
       "0                 1  0.085038  0.165179  0.152466  0.140909  0.112108   \n",
       "1                 2  0.169913  0.446154  0.429119  0.432950  0.362595   \n",
       "2                 3  0.210453  0.433333  0.434599  0.506276  0.559184   \n",
       "3                 4  0.099770  0.248705  0.252525  0.226131  0.214286   \n",
       "4                 5  0.068314  0.139344  0.135021  0.119149  0.128205   \n",
       "\n",
       "    10-2014   12-2014   02-2015   04-2015  ...   06-2019   08-2019   10-2019  \\\n",
       "0  0.109091  0.110092  0.123288  0.126126  ...  0.024390  0.020243  0.016327   \n",
       "1  0.352273  0.356589  0.325490  0.310757  ...  0.033058  0.029536  0.033333   \n",
       "2  0.576613  0.568465  0.481013  0.471861  ...  0.155738  0.154167  0.123457   \n",
       "3  0.226131  0.208955  0.188406  0.180095  ...  0.030075  0.026515  0.026415   \n",
       "4  0.111588  0.085837  0.085106  0.088235  ...  0.007874  0.007782  0.007605   \n",
       "\n",
       "    12-2019   02-2020   04-2020   06-2020   08-2020   10-2020   12-2020  \n",
       "0  0.016129  0.011952  0.000000  0.000000  0.000000  0.003953  0.015748  \n",
       "1  0.032787  0.028689  0.020243  0.012048  0.012048  0.008000  0.003968  \n",
       "2  0.122951  0.127049  0.134146  0.152000  0.188235  0.219608  0.285156  \n",
       "3  0.022642  0.022727  0.019011  0.019084  0.018939  0.015209  0.019084  \n",
       "4  0.003817  0.011364  0.015267  0.022901  0.022222  0.025830  0.028674  \n",
       "\n",
       "[5 rows x 44 columns]"
      ]
     },
     "execution_count": 5,
     "metadata": {},
     "output_type": "execute_result"
    }
   ],
   "source": [
    "out1.head()"
   ]
  },
  {
   "cell_type": "markdown",
   "metadata": {},
   "source": [
    "Calculate some descriptive statistics."
   ]
  },
  {
   "cell_type": "code",
   "execution_count": 6,
   "metadata": {},
   "outputs": [],
   "source": [
    "summary1 = pd.DataFrame({'Median': out1.iloc[:, 2:].median(),\n",
    "                         '25th Percentile': out1.iloc[:, 2:].quantile(0.25),\n",
    "                         '75th Percentile': out1.iloc[:, 2:].quantile(0.75)})"
   ]
  },
  {
   "cell_type": "markdown",
   "metadata": {},
   "source": [
    "Plot the descriptive statistics."
   ]
  },
  {
   "cell_type": "code",
   "execution_count": 7,
   "metadata": {},
   "outputs": [
    {
     "data": {
      "text/plain": [
       "<matplotlib.axes._subplots.AxesSubplot at 0x7fcc3fe06650>"
      ]
     },
     "execution_count": 7,
     "metadata": {},
     "output_type": "execute_result"
    },
    {
     "data": {
      "image/png": "[encoded data removed]",
      "text/plain": [
       "<Figure size 864x432 with 1 Axes>"
      ]
     },
     "metadata": {
      "needs_background": "light"
     },
     "output_type": "display_data"
    }
   ],
   "source": [
    "summary1.plot(title='Scenario 1')"
   ]
  },
  {
   "cell_type": "markdown",
   "metadata": {},
   "source": [
    "## Scenario 2"
   ]
  },
  {
   "cell_type": "markdown",
   "metadata": {},
   "source": [
    "The simulations start in 2016 and end in 2020, while the MDA starts in 2017 and ends in 2019."
   ]
  },
  {
   "cell_type": "code",
   "execution_count": 8,
   "metadata": {},
   "outputs": [
    {
     "name": "stdout",
     "output_type": "stream",
     "text": [
      "Running time: 94 seconds.\n"
     ]
    }
   ],
   "source": [
    "BetFilePath = 'files/InputBet_scen2.csv'  \n",
    "MDAFilePath = 'files/InputMDA_scen2.csv' \n",
    "PrevFilePath = 'files/OutputPrev_scen2.csv'\n",
    "\n",
    "Trachoma_Simulation(BetFilePath=BetFilePath,\n",
    "                    MDAFilePath=MDAFilePath,\n",
    "                    PrevFilePath=PrevFilePath,\n",
    "                    SaveOutput=False,\n",
    "                    OutSimFilePath=None,\n",
    "                    InSimFilePath=None)"
   ]
  },
  {
   "cell_type": "markdown",
   "metadata": {},
   "source": [
    "Import the output CSV file with the simulated prevalence."
   ]
  },
  {
   "cell_type": "code",
   "execution_count": 9,
   "metadata": {},
   "outputs": [],
   "source": [
    "out2 = pd.read_csv('files/OutputPrev_scen2.csv')"
   ]
  },
  {
   "cell_type": "markdown",
   "metadata": {},
   "source": [
    "Display the first few rows."
   ]
  },
  {
   "cell_type": "code",
   "execution_count": 10,
   "metadata": {},
   "outputs": [
    {
     "data": {
      "text/html": [
       "<div>\n",
       "<style scoped>\n",
       "    .dataframe tbody tr th:only-of-type {\n",
       "        vertical-align: middle;\n",
       "    }\n",
       "\n",
       "    .dataframe tbody tr th {\n",
       "        vertical-align: top;\n",
       "    }\n",
       "\n",
       "    .dataframe thead th {\n",
       "        text-align: right;\n",
       "    }\n",
       "</style>\n",
       "<table border=\"1\" class=\"dataframe\">\n",
       "  <thead>\n",
       "    <tr style=\"text-align: right;\">\n",
       "      <th></th>\n",
       "      <th>Random Generator</th>\n",
       "      <th>bet</th>\n",
       "      <th>02-2016</th>\n",
       "      <th>04-2016</th>\n",
       "      <th>06-2016</th>\n",
       "      <th>08-2016</th>\n",
       "      <th>10-2016</th>\n",
       "      <th>12-2016</th>\n",
       "      <th>02-2017</th>\n",
       "      <th>04-2017</th>\n",
       "      <th>...</th>\n",
       "      <th>06-2019</th>\n",
       "      <th>08-2019</th>\n",
       "      <th>10-2019</th>\n",
       "      <th>12-2019</th>\n",
       "      <th>02-2020</th>\n",
       "      <th>04-2020</th>\n",
       "      <th>06-2020</th>\n",
       "      <th>08-2020</th>\n",
       "      <th>10-2020</th>\n",
       "      <th>12-2020</th>\n",
       "    </tr>\n",
       "  </thead>\n",
       "  <tbody>\n",
       "    <tr>\n",
       "      <th>0</th>\n",
       "      <td>1</td>\n",
       "      <td>0.085038</td>\n",
       "      <td>0.165179</td>\n",
       "      <td>0.152466</td>\n",
       "      <td>0.140909</td>\n",
       "      <td>0.112108</td>\n",
       "      <td>0.109091</td>\n",
       "      <td>0.110092</td>\n",
       "      <td>0.123288</td>\n",
       "      <td>0.126126</td>\n",
       "      <td>...</td>\n",
       "      <td>0.056769</td>\n",
       "      <td>0.052174</td>\n",
       "      <td>0.048673</td>\n",
       "      <td>0.043860</td>\n",
       "      <td>0.039301</td>\n",
       "      <td>0.031250</td>\n",
       "      <td>0.030702</td>\n",
       "      <td>0.021459</td>\n",
       "      <td>0.021277</td>\n",
       "      <td>0.025316</td>\n",
       "    </tr>\n",
       "    <tr>\n",
       "      <th>1</th>\n",
       "      <td>2</td>\n",
       "      <td>0.169913</td>\n",
       "      <td>0.446154</td>\n",
       "      <td>0.429119</td>\n",
       "      <td>0.432950</td>\n",
       "      <td>0.362595</td>\n",
       "      <td>0.352273</td>\n",
       "      <td>0.356589</td>\n",
       "      <td>0.325490</td>\n",
       "      <td>0.310757</td>\n",
       "      <td>...</td>\n",
       "      <td>0.142857</td>\n",
       "      <td>0.119048</td>\n",
       "      <td>0.111111</td>\n",
       "      <td>0.098039</td>\n",
       "      <td>0.078125</td>\n",
       "      <td>0.059524</td>\n",
       "      <td>0.071713</td>\n",
       "      <td>0.060729</td>\n",
       "      <td>0.045082</td>\n",
       "      <td>0.036735</td>\n",
       "    </tr>\n",
       "    <tr>\n",
       "      <th>2</th>\n",
       "      <td>3</td>\n",
       "      <td>0.210453</td>\n",
       "      <td>0.433333</td>\n",
       "      <td>0.434599</td>\n",
       "      <td>0.506276</td>\n",
       "      <td>0.559184</td>\n",
       "      <td>0.576613</td>\n",
       "      <td>0.568465</td>\n",
       "      <td>0.481013</td>\n",
       "      <td>0.471861</td>\n",
       "      <td>...</td>\n",
       "      <td>0.103448</td>\n",
       "      <td>0.091304</td>\n",
       "      <td>0.109649</td>\n",
       "      <td>0.103896</td>\n",
       "      <td>0.091703</td>\n",
       "      <td>0.088106</td>\n",
       "      <td>0.103896</td>\n",
       "      <td>0.119658</td>\n",
       "      <td>0.145923</td>\n",
       "      <td>0.174468</td>\n",
       "    </tr>\n",
       "    <tr>\n",
       "      <th>3</th>\n",
       "      <td>4</td>\n",
       "      <td>0.099770</td>\n",
       "      <td>0.248705</td>\n",
       "      <td>0.252525</td>\n",
       "      <td>0.226131</td>\n",
       "      <td>0.214286</td>\n",
       "      <td>0.226131</td>\n",
       "      <td>0.208955</td>\n",
       "      <td>0.188406</td>\n",
       "      <td>0.180095</td>\n",
       "      <td>...</td>\n",
       "      <td>0.104348</td>\n",
       "      <td>0.075630</td>\n",
       "      <td>0.054622</td>\n",
       "      <td>0.046025</td>\n",
       "      <td>0.029289</td>\n",
       "      <td>0.016129</td>\n",
       "      <td>0.007937</td>\n",
       "      <td>0.007905</td>\n",
       "      <td>0.011952</td>\n",
       "      <td>0.019685</td>\n",
       "    </tr>\n",
       "    <tr>\n",
       "      <th>4</th>\n",
       "      <td>5</td>\n",
       "      <td>0.068314</td>\n",
       "      <td>0.139344</td>\n",
       "      <td>0.135021</td>\n",
       "      <td>0.119149</td>\n",
       "      <td>0.128205</td>\n",
       "      <td>0.111588</td>\n",
       "      <td>0.085837</td>\n",
       "      <td>0.085106</td>\n",
       "      <td>0.088235</td>\n",
       "      <td>...</td>\n",
       "      <td>0.024793</td>\n",
       "      <td>0.025000</td>\n",
       "      <td>0.024793</td>\n",
       "      <td>0.024793</td>\n",
       "      <td>0.024793</td>\n",
       "      <td>0.024096</td>\n",
       "      <td>0.019920</td>\n",
       "      <td>0.019531</td>\n",
       "      <td>0.015625</td>\n",
       "      <td>0.015686</td>\n",
       "    </tr>\n",
       "  </tbody>\n",
       "</table>\n",
       "<p>5 rows × 32 columns</p>\n",
       "</div>"
      ],
      "text/plain": [
       "   Random Generator       bet   02-2016   04-2016   06-2016   08-2016  \\\n",
       "0                 1  0.085038  0.165179  0.152466  0.140909  0.112108   \n",
       "1                 2  0.169913  0.446154  0.429119  0.432950  0.362595   \n",
       "2                 3  0.210453  0.433333  0.434599  0.506276  0.559184   \n",
       "3                 4  0.099770  0.248705  0.252525  0.226131  0.214286   \n",
       "4                 5  0.068314  0.139344  0.135021  0.119149  0.128205   \n",
       "\n",
       "    10-2016   12-2016   02-2017   04-2017  ...   06-2019   08-2019   10-2019  \\\n",
       "0  0.109091  0.110092  0.123288  0.126126  ...  0.056769  0.052174  0.048673   \n",
       "1  0.352273  0.356589  0.325490  0.310757  ...  0.142857  0.119048  0.111111   \n",
       "2  0.576613  0.568465  0.481013  0.471861  ...  0.103448  0.091304  0.109649   \n",
       "3  0.226131  0.208955  0.188406  0.180095  ...  0.104348  0.075630  0.054622   \n",
       "4  0.111588  0.085837  0.085106  0.088235  ...  0.024793  0.025000  0.024793   \n",
       "\n",
       "    12-2019   02-2020   04-2020   06-2020   08-2020   10-2020   12-2020  \n",
       "0  0.043860  0.039301  0.031250  0.030702  0.021459  0.021277  0.025316  \n",
       "1  0.098039  0.078125  0.059524  0.071713  0.060729  0.045082  0.036735  \n",
       "2  0.103896  0.091703  0.088106  0.103896  0.119658  0.145923  0.174468  \n",
       "3  0.046025  0.029289  0.016129  0.007937  0.007905  0.011952  0.019685  \n",
       "4  0.024793  0.024793  0.024096  0.019920  0.019531  0.015625  0.015686  \n",
       "\n",
       "[5 rows x 32 columns]"
      ]
     },
     "execution_count": 10,
     "metadata": {},
     "output_type": "execute_result"
    }
   ],
   "source": [
    "out2.head()"
   ]
  },
  {
   "cell_type": "markdown",
   "metadata": {},
   "source": [
    "Calculate some descriptive statistics."
   ]
  },
  {
   "cell_type": "code",
   "execution_count": 11,
   "metadata": {},
   "outputs": [],
   "source": [
    "summary2 = pd.DataFrame({'Median': out2.iloc[:, 2:].median(),\n",
    "                         '25th Percentile': out2.iloc[:, 2:].quantile(0.25),\n",
    "                         '75th Percentile': out2.iloc[:, 2:].quantile(0.75)})"
   ]
  },
  {
   "cell_type": "markdown",
   "metadata": {},
   "source": [
    "Plot the descriptive statistics."
   ]
  },
  {
   "cell_type": "code",
   "execution_count": 12,
   "metadata": {},
   "outputs": [
    {
     "data": {
      "text/plain": [
       "<matplotlib.axes._subplots.AxesSubplot at 0x7fcc3febc850>"
      ]
     },
     "execution_count": 12,
     "metadata": {},
     "output_type": "execute_result"
    },
    {
     "data": {
      "image/png": "[encoded data removed]",
      "text/plain": [
       "<Figure size 864x432 with 1 Axes>"
      ]
     },
     "metadata": {
      "needs_background": "light"
     },
     "output_type": "display_data"
    }
   ],
   "source": [
    "summary2.plot(title='Scenario 2')"
   ]
  },
  {
   "cell_type": "markdown",
   "metadata": {},
   "source": [
    "## Scenario 3"
   ]
  },
  {
   "cell_type": "markdown",
   "metadata": {},
   "source": [
    "The simulations start in 2019 and end in 2020, while the there is no MDA."
   ]
  },
  {
   "cell_type": "code",
   "execution_count": 13,
   "metadata": {},
   "outputs": [
    {
     "name": "stdout",
     "output_type": "stream",
     "text": [
      "Running time: 89 seconds.\n"
     ]
    }
   ],
   "source": [
    "BetFilePath = 'files/InputBet_scen3.csv'  \n",
    "MDAFilePath = 'files/InputMDA_scen3.csv' \n",
    "PrevFilePath = 'files/OutputPrev_scen3.csv'\n",
    "\n",
    "Trachoma_Simulation(BetFilePath=BetFilePath,\n",
    "                    MDAFilePath=MDAFilePath,\n",
    "                    PrevFilePath=PrevFilePath,\n",
    "                    SaveOutput=False,\n",
    "                    OutSimFilePath=None,\n",
    "                    InSimFilePath=None)"
   ]
  },
  {
   "cell_type": "markdown",
   "metadata": {},
   "source": [
    "Import the output CSV file with the simulated prevalence."
   ]
  },
  {
   "cell_type": "code",
   "execution_count": 14,
   "metadata": {},
   "outputs": [],
   "source": [
    "out3 = pd.read_csv('files/OutputPrev_scen3.csv')"
   ]
  },
  {
   "cell_type": "markdown",
   "metadata": {},
   "source": [
    "Display the first few rows."
   ]
  },
  {
   "cell_type": "code",
   "execution_count": 15,
   "metadata": {},
   "outputs": [
    {
     "data": {
      "text/html": [
       "<div>\n",
       "<style scoped>\n",
       "    .dataframe tbody tr th:only-of-type {\n",
       "        vertical-align: middle;\n",
       "    }\n",
       "\n",
       "    .dataframe tbody tr th {\n",
       "        vertical-align: top;\n",
       "    }\n",
       "\n",
       "    .dataframe thead th {\n",
       "        text-align: right;\n",
       "    }\n",
       "</style>\n",
       "<table border=\"1\" class=\"dataframe\">\n",
       "  <thead>\n",
       "    <tr style=\"text-align: right;\">\n",
       "      <th></th>\n",
       "      <th>Random Generator</th>\n",
       "      <th>bet</th>\n",
       "      <th>02-2019</th>\n",
       "      <th>04-2019</th>\n",
       "      <th>06-2019</th>\n",
       "      <th>08-2019</th>\n",
       "      <th>10-2019</th>\n",
       "      <th>12-2019</th>\n",
       "      <th>02-2020</th>\n",
       "      <th>04-2020</th>\n",
       "      <th>06-2020</th>\n",
       "      <th>08-2020</th>\n",
       "      <th>10-2020</th>\n",
       "      <th>12-2020</th>\n",
       "    </tr>\n",
       "  </thead>\n",
       "  <tbody>\n",
       "    <tr>\n",
       "      <th>0</th>\n",
       "      <td>1</td>\n",
       "      <td>0.085038</td>\n",
       "      <td>0.165179</td>\n",
       "      <td>0.152466</td>\n",
       "      <td>0.140909</td>\n",
       "      <td>0.112108</td>\n",
       "      <td>0.109091</td>\n",
       "      <td>0.110092</td>\n",
       "      <td>0.123288</td>\n",
       "      <td>0.126126</td>\n",
       "      <td>0.160550</td>\n",
       "      <td>0.140909</td>\n",
       "      <td>0.148649</td>\n",
       "      <td>0.165919</td>\n",
       "    </tr>\n",
       "    <tr>\n",
       "      <th>1</th>\n",
       "      <td>2</td>\n",
       "      <td>0.169913</td>\n",
       "      <td>0.446154</td>\n",
       "      <td>0.429119</td>\n",
       "      <td>0.432950</td>\n",
       "      <td>0.362595</td>\n",
       "      <td>0.352273</td>\n",
       "      <td>0.356589</td>\n",
       "      <td>0.325490</td>\n",
       "      <td>0.310757</td>\n",
       "      <td>0.324000</td>\n",
       "      <td>0.354839</td>\n",
       "      <td>0.354582</td>\n",
       "      <td>0.308594</td>\n",
       "    </tr>\n",
       "    <tr>\n",
       "      <th>2</th>\n",
       "      <td>3</td>\n",
       "      <td>0.210453</td>\n",
       "      <td>0.433333</td>\n",
       "      <td>0.434599</td>\n",
       "      <td>0.506276</td>\n",
       "      <td>0.559184</td>\n",
       "      <td>0.576613</td>\n",
       "      <td>0.568465</td>\n",
       "      <td>0.481013</td>\n",
       "      <td>0.471861</td>\n",
       "      <td>0.414847</td>\n",
       "      <td>0.424107</td>\n",
       "      <td>0.453333</td>\n",
       "      <td>0.486607</td>\n",
       "    </tr>\n",
       "    <tr>\n",
       "      <th>3</th>\n",
       "      <td>4</td>\n",
       "      <td>0.099770</td>\n",
       "      <td>0.248705</td>\n",
       "      <td>0.252525</td>\n",
       "      <td>0.226131</td>\n",
       "      <td>0.214286</td>\n",
       "      <td>0.226131</td>\n",
       "      <td>0.208955</td>\n",
       "      <td>0.188406</td>\n",
       "      <td>0.180095</td>\n",
       "      <td>0.191388</td>\n",
       "      <td>0.218009</td>\n",
       "      <td>0.224771</td>\n",
       "      <td>0.213636</td>\n",
       "    </tr>\n",
       "    <tr>\n",
       "      <th>4</th>\n",
       "      <td>5</td>\n",
       "      <td>0.068314</td>\n",
       "      <td>0.139344</td>\n",
       "      <td>0.135021</td>\n",
       "      <td>0.119149</td>\n",
       "      <td>0.128205</td>\n",
       "      <td>0.111588</td>\n",
       "      <td>0.085837</td>\n",
       "      <td>0.085106</td>\n",
       "      <td>0.088235</td>\n",
       "      <td>0.087500</td>\n",
       "      <td>0.089362</td>\n",
       "      <td>0.088235</td>\n",
       "      <td>0.066116</td>\n",
       "    </tr>\n",
       "  </tbody>\n",
       "</table>\n",
       "</div>"
      ],
      "text/plain": [
       "   Random Generator       bet   02-2019   04-2019   06-2019   08-2019  \\\n",
       "0                 1  0.085038  0.165179  0.152466  0.140909  0.112108   \n",
       "1                 2  0.169913  0.446154  0.429119  0.432950  0.362595   \n",
       "2                 3  0.210453  0.433333  0.434599  0.506276  0.559184   \n",
       "3                 4  0.099770  0.248705  0.252525  0.226131  0.214286   \n",
       "4                 5  0.068314  0.139344  0.135021  0.119149  0.128205   \n",
       "\n",
       "    10-2019   12-2019   02-2020   04-2020   06-2020   08-2020   10-2020  \\\n",
       "0  0.109091  0.110092  0.123288  0.126126  0.160550  0.140909  0.148649   \n",
       "1  0.352273  0.356589  0.325490  0.310757  0.324000  0.354839  0.354582   \n",
       "2  0.576613  0.568465  0.481013  0.471861  0.414847  0.424107  0.453333   \n",
       "3  0.226131  0.208955  0.188406  0.180095  0.191388  0.218009  0.224771   \n",
       "4  0.111588  0.085837  0.085106  0.088235  0.087500  0.089362  0.088235   \n",
       "\n",
       "    12-2020  \n",
       "0  0.165919  \n",
       "1  0.308594  \n",
       "2  0.486607  \n",
       "3  0.213636  \n",
       "4  0.066116  "
      ]
     },
     "execution_count": 15,
     "metadata": {},
     "output_type": "execute_result"
    }
   ],
   "source": [
    "out3.head()"
   ]
  },
  {
   "cell_type": "markdown",
   "metadata": {},
   "source": [
    "Calculate some descriptive statistics."
   ]
  },
  {
   "cell_type": "code",
   "execution_count": 16,
   "metadata": {},
   "outputs": [],
   "source": [
    "summary3 = pd.DataFrame({'Median': out3.iloc[:, 2:].median(),\n",
    "                         '25th Percentile': out3.iloc[:, 2:].quantile(0.25),\n",
    "                         '75th Percentile': out3.iloc[:, 2:].quantile(0.75)})"
   ]
  },
  {
   "cell_type": "markdown",
   "metadata": {},
   "source": [
    "Plot the descriptive statistics."
   ]
  },
  {
   "cell_type": "code",
   "execution_count": 17,
   "metadata": {},
   "outputs": [
    {
     "data": {
      "text/plain": [
       "<matplotlib.axes._subplots.AxesSubplot at 0x7fcc4067f550>"
      ]
     },
     "execution_count": 17,
     "metadata": {},
     "output_type": "execute_result"
    },
    {
     "data": {
      "image/png": "[encoded data removed]",
      "text/plain": [
       "<Figure size 864x432 with 1 Axes>"
      ]
     },
     "metadata": {
      "needs_background": "light"
     },
     "output_type": "display_data"
    }
   ],
   "source": [
    "summary3.plot(title='Scenario 3')"
   ]
  },
  {
   "cell_type": "markdown",
   "metadata": {},
   "source": [
    "## Scenario 4"
   ]
  },
  {
   "cell_type": "markdown",
   "metadata": {},
   "source": [
    "The first set of simulations starts in 2018 and ends in 2020, while the MDA starts in 2019 and ends in 2020."
   ]
  },
  {
   "cell_type": "code",
   "execution_count": 18,
   "metadata": {},
   "outputs": [
    {
     "name": "stdout",
     "output_type": "stream",
     "text": [
      "Running time: 86 seconds.\n"
     ]
    }
   ],
   "source": [
    "BetFilePath = 'files/InputBet_scen1.csv'  \n",
    "MDAFilePath = 'files/InputMDA_scen4a.csv' \n",
    "PrevFilePath = 'files/OutputPrev_scen4a.csv'\n",
    "\n",
    "Trachoma_Simulation(BetFilePath=BetFilePath,\n",
    "                    MDAFilePath=MDAFilePath,\n",
    "                    PrevFilePath=PrevFilePath,\n",
    "                    SaveOutput=True,\n",
    "                    OutSimFilePath='files/OutputVals_scen4a.p',\n",
    "                    InSimFilePath=None)"
   ]
  },
  {
   "cell_type": "markdown",
   "metadata": {},
   "source": [
    "The second set of simulations starts in 2021 and ends in 2023, while the MDA starts in 2021 and ends in 2022."
   ]
  },
  {
   "cell_type": "code",
   "execution_count": 19,
   "metadata": {},
   "outputs": [
    {
     "name": "stdout",
     "output_type": "stream",
     "text": [
      "Running time: 8 seconds.\n"
     ]
    }
   ],
   "source": [
    "BetFilePath = 'files/InputBet_scen1.csv'  \n",
    "MDAFilePath = 'files/InputMDA_scen4b.csv' \n",
    "PrevFilePath = 'files/OutputPrev_scen4b.csv'\n",
    "\n",
    "Trachoma_Simulation(BetFilePath=BetFilePath,\n",
    "                    MDAFilePath=MDAFilePath,\n",
    "                    PrevFilePath=PrevFilePath,\n",
    "                    SaveOutput=False,\n",
    "                    OutSimFilePath=None,\n",
    "                    InSimFilePath='files/OutputVals_scen4a.p')"
   ]
  },
  {
   "cell_type": "markdown",
   "metadata": {},
   "source": [
    "For comparison purposes, the following code generates a third set of simulations starting in 2018 and ending in 2023, with MDA starting in 2019 and ending in 2022."
   ]
  },
  {
   "cell_type": "code",
   "execution_count": 20,
   "metadata": {},
   "outputs": [
    {
     "name": "stdout",
     "output_type": "stream",
     "text": [
      "Running time: 96 seconds.\n"
     ]
    }
   ],
   "source": [
    "BetFilePath = 'files/InputBet_scen1.csv'  \n",
    "MDAFilePath = 'files/InputMDA_scen4c.csv' \n",
    "PrevFilePath = 'files/OutputPrev_scen4c.csv'\n",
    "\n",
    "Trachoma_Simulation(BetFilePath=BetFilePath,\n",
    "                    MDAFilePath=MDAFilePath,\n",
    "                    PrevFilePath=PrevFilePath,\n",
    "                    SaveOutput=False,\n",
    "                    OutSimFilePath=None,\n",
    "                    InSimFilePath=None)"
   ]
  },
  {
   "cell_type": "markdown",
   "metadata": {},
   "source": [
    "Import the output CSV files with the simulated prevalence."
   ]
  },
  {
   "cell_type": "code",
   "execution_count": 21,
   "metadata": {},
   "outputs": [],
   "source": [
    "out4a = pd.read_csv('files/OutputPrev_scen4a.csv')\n",
    "out4b = pd.read_csv('files/OutputPrev_scen4b.csv')\n",
    "out4c = pd.read_csv('files/OutputPrev_scen4c.csv')"
   ]
  },
  {
   "cell_type": "markdown",
   "metadata": {},
   "source": [
    "Merge the first two CSV files."
   ]
  },
  {
   "cell_type": "code",
   "execution_count": 22,
   "metadata": {},
   "outputs": [],
   "source": [
    "out4ab = out4a.join(out4b.iloc[:, 2:])"
   ]
  },
  {
   "cell_type": "markdown",
   "metadata": {},
   "source": [
    "Display the first few rows."
   ]
  },
  {
   "cell_type": "code",
   "execution_count": 23,
   "metadata": {},
   "outputs": [
    {
     "data": {
      "text/html": [
       "<div>\n",
       "<style scoped>\n",
       "    .dataframe tbody tr th:only-of-type {\n",
       "        vertical-align: middle;\n",
       "    }\n",
       "\n",
       "    .dataframe tbody tr th {\n",
       "        vertical-align: top;\n",
       "    }\n",
       "\n",
       "    .dataframe thead th {\n",
       "        text-align: right;\n",
       "    }\n",
       "</style>\n",
       "<table border=\"1\" class=\"dataframe\">\n",
       "  <thead>\n",
       "    <tr style=\"text-align: right;\">\n",
       "      <th></th>\n",
       "      <th>Random Generator</th>\n",
       "      <th>bet</th>\n",
       "      <th>02-2018</th>\n",
       "      <th>04-2018</th>\n",
       "      <th>06-2018</th>\n",
       "      <th>08-2018</th>\n",
       "      <th>10-2018</th>\n",
       "      <th>12-2018</th>\n",
       "      <th>02-2019</th>\n",
       "      <th>04-2019</th>\n",
       "      <th>...</th>\n",
       "      <th>06-2022</th>\n",
       "      <th>08-2022</th>\n",
       "      <th>10-2022</th>\n",
       "      <th>12-2022</th>\n",
       "      <th>02-2023</th>\n",
       "      <th>04-2023</th>\n",
       "      <th>06-2023</th>\n",
       "      <th>08-2023</th>\n",
       "      <th>10-2023</th>\n",
       "      <th>12-2023</th>\n",
       "    </tr>\n",
       "  </thead>\n",
       "  <tbody>\n",
       "    <tr>\n",
       "      <th>0</th>\n",
       "      <td>1</td>\n",
       "      <td>0.085038</td>\n",
       "      <td>0.165179</td>\n",
       "      <td>0.152466</td>\n",
       "      <td>0.140909</td>\n",
       "      <td>0.112108</td>\n",
       "      <td>0.109091</td>\n",
       "      <td>0.110092</td>\n",
       "      <td>0.123288</td>\n",
       "      <td>0.126126</td>\n",
       "      <td>...</td>\n",
       "      <td>0.030702</td>\n",
       "      <td>0.021459</td>\n",
       "      <td>0.021277</td>\n",
       "      <td>0.025424</td>\n",
       "      <td>0.025105</td>\n",
       "      <td>0.024793</td>\n",
       "      <td>0.024390</td>\n",
       "      <td>0.020243</td>\n",
       "      <td>0.016327</td>\n",
       "      <td>0.016129</td>\n",
       "    </tr>\n",
       "    <tr>\n",
       "      <th>1</th>\n",
       "      <td>2</td>\n",
       "      <td>0.169913</td>\n",
       "      <td>0.446154</td>\n",
       "      <td>0.429119</td>\n",
       "      <td>0.432950</td>\n",
       "      <td>0.362595</td>\n",
       "      <td>0.352273</td>\n",
       "      <td>0.356589</td>\n",
       "      <td>0.325490</td>\n",
       "      <td>0.310757</td>\n",
       "      <td>...</td>\n",
       "      <td>0.071713</td>\n",
       "      <td>0.060729</td>\n",
       "      <td>0.045082</td>\n",
       "      <td>0.036735</td>\n",
       "      <td>0.045455</td>\n",
       "      <td>0.041841</td>\n",
       "      <td>0.033058</td>\n",
       "      <td>0.029536</td>\n",
       "      <td>0.033333</td>\n",
       "      <td>0.032653</td>\n",
       "    </tr>\n",
       "    <tr>\n",
       "      <th>2</th>\n",
       "      <td>3</td>\n",
       "      <td>0.210453</td>\n",
       "      <td>0.433333</td>\n",
       "      <td>0.434599</td>\n",
       "      <td>0.506276</td>\n",
       "      <td>0.559184</td>\n",
       "      <td>0.576613</td>\n",
       "      <td>0.568465</td>\n",
       "      <td>0.481013</td>\n",
       "      <td>0.471861</td>\n",
       "      <td>...</td>\n",
       "      <td>0.103896</td>\n",
       "      <td>0.119658</td>\n",
       "      <td>0.145923</td>\n",
       "      <td>0.166667</td>\n",
       "      <td>0.175214</td>\n",
       "      <td>0.179167</td>\n",
       "      <td>0.155738</td>\n",
       "      <td>0.154167</td>\n",
       "      <td>0.123457</td>\n",
       "      <td>0.132231</td>\n",
       "    </tr>\n",
       "    <tr>\n",
       "      <th>3</th>\n",
       "      <td>4</td>\n",
       "      <td>0.099770</td>\n",
       "      <td>0.248705</td>\n",
       "      <td>0.252525</td>\n",
       "      <td>0.226131</td>\n",
       "      <td>0.214286</td>\n",
       "      <td>0.226131</td>\n",
       "      <td>0.208955</td>\n",
       "      <td>0.188406</td>\n",
       "      <td>0.180095</td>\n",
       "      <td>...</td>\n",
       "      <td>0.007937</td>\n",
       "      <td>0.007905</td>\n",
       "      <td>0.011952</td>\n",
       "      <td>0.019763</td>\n",
       "      <td>0.022901</td>\n",
       "      <td>0.026515</td>\n",
       "      <td>0.030075</td>\n",
       "      <td>0.026515</td>\n",
       "      <td>0.026415</td>\n",
       "      <td>0.022642</td>\n",
       "    </tr>\n",
       "    <tr>\n",
       "      <th>4</th>\n",
       "      <td>5</td>\n",
       "      <td>0.068314</td>\n",
       "      <td>0.139344</td>\n",
       "      <td>0.135021</td>\n",
       "      <td>0.119149</td>\n",
       "      <td>0.128205</td>\n",
       "      <td>0.111588</td>\n",
       "      <td>0.085837</td>\n",
       "      <td>0.085106</td>\n",
       "      <td>0.088235</td>\n",
       "      <td>...</td>\n",
       "      <td>0.019920</td>\n",
       "      <td>0.019531</td>\n",
       "      <td>0.015625</td>\n",
       "      <td>0.015748</td>\n",
       "      <td>0.015564</td>\n",
       "      <td>0.011719</td>\n",
       "      <td>0.007874</td>\n",
       "      <td>0.007782</td>\n",
       "      <td>0.007605</td>\n",
       "      <td>0.007663</td>\n",
       "    </tr>\n",
       "  </tbody>\n",
       "</table>\n",
       "<p>5 rows × 38 columns</p>\n",
       "</div>"
      ],
      "text/plain": [
       "   Random Generator       bet   02-2018   04-2018   06-2018   08-2018  \\\n",
       "0                 1  0.085038  0.165179  0.152466  0.140909  0.112108   \n",
       "1                 2  0.169913  0.446154  0.429119  0.432950  0.362595   \n",
       "2                 3  0.210453  0.433333  0.434599  0.506276  0.559184   \n",
       "3                 4  0.099770  0.248705  0.252525  0.226131  0.214286   \n",
       "4                 5  0.068314  0.139344  0.135021  0.119149  0.128205   \n",
       "\n",
       "    10-2018   12-2018   02-2019   04-2019  ...   06-2022   08-2022   10-2022  \\\n",
       "0  0.109091  0.110092  0.123288  0.126126  ...  0.030702  0.021459  0.021277   \n",
       "1  0.352273  0.356589  0.325490  0.310757  ...  0.071713  0.060729  0.045082   \n",
       "2  0.576613  0.568465  0.481013  0.471861  ...  0.103896  0.119658  0.145923   \n",
       "3  0.226131  0.208955  0.188406  0.180095  ...  0.007937  0.007905  0.011952   \n",
       "4  0.111588  0.085837  0.085106  0.088235  ...  0.019920  0.019531  0.015625   \n",
       "\n",
       "    12-2022   02-2023   04-2023   06-2023   08-2023   10-2023   12-2023  \n",
       "0  0.025424  0.025105  0.024793  0.024390  0.020243  0.016327  0.016129  \n",
       "1  0.036735  0.045455  0.041841  0.033058  0.029536  0.033333  0.032653  \n",
       "2  0.166667  0.175214  0.179167  0.155738  0.154167  0.123457  0.132231  \n",
       "3  0.019763  0.022901  0.026515  0.030075  0.026515  0.026415  0.022642  \n",
       "4  0.015748  0.015564  0.011719  0.007874  0.007782  0.007605  0.007663  \n",
       "\n",
       "[5 rows x 38 columns]"
      ]
     },
     "execution_count": 23,
     "metadata": {},
     "output_type": "execute_result"
    }
   ],
   "source": [
    "out4ab.head()"
   ]
  },
  {
   "cell_type": "code",
   "execution_count": 24,
   "metadata": {},
   "outputs": [
    {
     "data": {
      "text/html": [
       "<div>\n",
       "<style scoped>\n",
       "    .dataframe tbody tr th:only-of-type {\n",
       "        vertical-align: middle;\n",
       "    }\n",
       "\n",
       "    .dataframe tbody tr th {\n",
       "        vertical-align: top;\n",
       "    }\n",
       "\n",
       "    .dataframe thead th {\n",
       "        text-align: right;\n",
       "    }\n",
       "</style>\n",
       "<table border=\"1\" class=\"dataframe\">\n",
       "  <thead>\n",
       "    <tr style=\"text-align: right;\">\n",
       "      <th></th>\n",
       "      <th>Random Generator</th>\n",
       "      <th>bet</th>\n",
       "      <th>02-2018</th>\n",
       "      <th>04-2018</th>\n",
       "      <th>06-2018</th>\n",
       "      <th>08-2018</th>\n",
       "      <th>10-2018</th>\n",
       "      <th>12-2018</th>\n",
       "      <th>02-2019</th>\n",
       "      <th>04-2019</th>\n",
       "      <th>...</th>\n",
       "      <th>06-2022</th>\n",
       "      <th>08-2022</th>\n",
       "      <th>10-2022</th>\n",
       "      <th>12-2022</th>\n",
       "      <th>02-2023</th>\n",
       "      <th>04-2023</th>\n",
       "      <th>06-2023</th>\n",
       "      <th>08-2023</th>\n",
       "      <th>10-2023</th>\n",
       "      <th>12-2023</th>\n",
       "    </tr>\n",
       "  </thead>\n",
       "  <tbody>\n",
       "    <tr>\n",
       "      <th>0</th>\n",
       "      <td>1</td>\n",
       "      <td>0.085038</td>\n",
       "      <td>0.165179</td>\n",
       "      <td>0.152466</td>\n",
       "      <td>0.140909</td>\n",
       "      <td>0.112108</td>\n",
       "      <td>0.109091</td>\n",
       "      <td>0.110092</td>\n",
       "      <td>0.123288</td>\n",
       "      <td>0.126126</td>\n",
       "      <td>...</td>\n",
       "      <td>0.030702</td>\n",
       "      <td>0.021459</td>\n",
       "      <td>0.021277</td>\n",
       "      <td>0.025424</td>\n",
       "      <td>0.025105</td>\n",
       "      <td>0.024793</td>\n",
       "      <td>0.024390</td>\n",
       "      <td>0.020243</td>\n",
       "      <td>0.016327</td>\n",
       "      <td>0.016129</td>\n",
       "    </tr>\n",
       "    <tr>\n",
       "      <th>1</th>\n",
       "      <td>2</td>\n",
       "      <td>0.169913</td>\n",
       "      <td>0.446154</td>\n",
       "      <td>0.429119</td>\n",
       "      <td>0.432950</td>\n",
       "      <td>0.362595</td>\n",
       "      <td>0.352273</td>\n",
       "      <td>0.356589</td>\n",
       "      <td>0.325490</td>\n",
       "      <td>0.310757</td>\n",
       "      <td>...</td>\n",
       "      <td>0.071713</td>\n",
       "      <td>0.060729</td>\n",
       "      <td>0.045082</td>\n",
       "      <td>0.036735</td>\n",
       "      <td>0.045455</td>\n",
       "      <td>0.041841</td>\n",
       "      <td>0.033058</td>\n",
       "      <td>0.029536</td>\n",
       "      <td>0.033333</td>\n",
       "      <td>0.032653</td>\n",
       "    </tr>\n",
       "    <tr>\n",
       "      <th>2</th>\n",
       "      <td>3</td>\n",
       "      <td>0.210453</td>\n",
       "      <td>0.433333</td>\n",
       "      <td>0.434599</td>\n",
       "      <td>0.506276</td>\n",
       "      <td>0.559184</td>\n",
       "      <td>0.576613</td>\n",
       "      <td>0.568465</td>\n",
       "      <td>0.481013</td>\n",
       "      <td>0.471861</td>\n",
       "      <td>...</td>\n",
       "      <td>0.103896</td>\n",
       "      <td>0.119658</td>\n",
       "      <td>0.145923</td>\n",
       "      <td>0.166667</td>\n",
       "      <td>0.175214</td>\n",
       "      <td>0.179167</td>\n",
       "      <td>0.155738</td>\n",
       "      <td>0.154167</td>\n",
       "      <td>0.123457</td>\n",
       "      <td>0.132231</td>\n",
       "    </tr>\n",
       "    <tr>\n",
       "      <th>3</th>\n",
       "      <td>4</td>\n",
       "      <td>0.099770</td>\n",
       "      <td>0.248705</td>\n",
       "      <td>0.252525</td>\n",
       "      <td>0.226131</td>\n",
       "      <td>0.214286</td>\n",
       "      <td>0.226131</td>\n",
       "      <td>0.208955</td>\n",
       "      <td>0.188406</td>\n",
       "      <td>0.180095</td>\n",
       "      <td>...</td>\n",
       "      <td>0.007937</td>\n",
       "      <td>0.007905</td>\n",
       "      <td>0.011952</td>\n",
       "      <td>0.019763</td>\n",
       "      <td>0.022901</td>\n",
       "      <td>0.026515</td>\n",
       "      <td>0.030075</td>\n",
       "      <td>0.026515</td>\n",
       "      <td>0.026415</td>\n",
       "      <td>0.022642</td>\n",
       "    </tr>\n",
       "    <tr>\n",
       "      <th>4</th>\n",
       "      <td>5</td>\n",
       "      <td>0.068314</td>\n",
       "      <td>0.139344</td>\n",
       "      <td>0.135021</td>\n",
       "      <td>0.119149</td>\n",
       "      <td>0.128205</td>\n",
       "      <td>0.111588</td>\n",
       "      <td>0.085837</td>\n",
       "      <td>0.085106</td>\n",
       "      <td>0.088235</td>\n",
       "      <td>...</td>\n",
       "      <td>0.019920</td>\n",
       "      <td>0.019531</td>\n",
       "      <td>0.015625</td>\n",
       "      <td>0.015748</td>\n",
       "      <td>0.015564</td>\n",
       "      <td>0.011719</td>\n",
       "      <td>0.007874</td>\n",
       "      <td>0.007782</td>\n",
       "      <td>0.007605</td>\n",
       "      <td>0.007663</td>\n",
       "    </tr>\n",
       "  </tbody>\n",
       "</table>\n",
       "<p>5 rows × 38 columns</p>\n",
       "</div>"
      ],
      "text/plain": [
       "   Random Generator       bet   02-2018   04-2018   06-2018   08-2018  \\\n",
       "0                 1  0.085038  0.165179  0.152466  0.140909  0.112108   \n",
       "1                 2  0.169913  0.446154  0.429119  0.432950  0.362595   \n",
       "2                 3  0.210453  0.433333  0.434599  0.506276  0.559184   \n",
       "3                 4  0.099770  0.248705  0.252525  0.226131  0.214286   \n",
       "4                 5  0.068314  0.139344  0.135021  0.119149  0.128205   \n",
       "\n",
       "    10-2018   12-2018   02-2019   04-2019  ...   06-2022   08-2022   10-2022  \\\n",
       "0  0.109091  0.110092  0.123288  0.126126  ...  0.030702  0.021459  0.021277   \n",
       "1  0.352273  0.356589  0.325490  0.310757  ...  0.071713  0.060729  0.045082   \n",
       "2  0.576613  0.568465  0.481013  0.471861  ...  0.103896  0.119658  0.145923   \n",
       "3  0.226131  0.208955  0.188406  0.180095  ...  0.007937  0.007905  0.011952   \n",
       "4  0.111588  0.085837  0.085106  0.088235  ...  0.019920  0.019531  0.015625   \n",
       "\n",
       "    12-2022   02-2023   04-2023   06-2023   08-2023   10-2023   12-2023  \n",
       "0  0.025424  0.025105  0.024793  0.024390  0.020243  0.016327  0.016129  \n",
       "1  0.036735  0.045455  0.041841  0.033058  0.029536  0.033333  0.032653  \n",
       "2  0.166667  0.175214  0.179167  0.155738  0.154167  0.123457  0.132231  \n",
       "3  0.019763  0.022901  0.026515  0.030075  0.026515  0.026415  0.022642  \n",
       "4  0.015748  0.015564  0.011719  0.007874  0.007782  0.007605  0.007663  \n",
       "\n",
       "[5 rows x 38 columns]"
      ]
     },
     "execution_count": 24,
     "metadata": {},
     "output_type": "execute_result"
    }
   ],
   "source": [
    "out4c.head()"
   ]
  },
  {
   "cell_type": "markdown",
   "metadata": {},
   "source": [
    "Calculate some descriptive statistics."
   ]
  },
  {
   "cell_type": "code",
   "execution_count": 25,
   "metadata": {},
   "outputs": [],
   "source": [
    "summary4ab = pd.DataFrame({'Median': out4ab.iloc[:, 2:].median(),\n",
    "                           '25th Percentile': out4ab.iloc[:, 2:].quantile(0.25),\n",
    "                           '75th Percentile': out4ab.iloc[:, 2:].quantile(0.75)})"
   ]
  },
  {
   "cell_type": "code",
   "execution_count": 26,
   "metadata": {},
   "outputs": [],
   "source": [
    "summary4c = pd.DataFrame({'Median': out4c.iloc[:, 2:].median(),\n",
    "                          '25th Percentile': out4c.iloc[:, 2:].quantile(0.25),\n",
    "                          '75th Percentile': out4c.iloc[:, 2:].quantile(0.75)})"
   ]
  },
  {
   "cell_type": "markdown",
   "metadata": {},
   "source": [
    "Plot the descriptive statistics."
   ]
  },
  {
   "cell_type": "code",
   "execution_count": 27,
   "metadata": {},
   "outputs": [
    {
     "data": {
      "text/plain": [
       "<matplotlib.axes._subplots.AxesSubplot at 0x7fcc41835950>"
      ]
     },
     "execution_count": 27,
     "metadata": {},
     "output_type": "execute_result"
    },
    {
     "data": {
      "image/png": "[encoded data removed]",
      "text/plain": [
       "<Figure size 864x432 with 1 Axes>"
      ]
     },
     "metadata": {
      "needs_background": "light"
     },
     "output_type": "display_data"
    }
   ],
   "source": [
    "summary4ab.plot(title='Scenario 4, Separate Runs')"
   ]
  },
  {
   "cell_type": "code",
   "execution_count": 28,
   "metadata": {},
   "outputs": [
    {
     "data": {
      "text/plain": [
       "<matplotlib.axes._subplots.AxesSubplot at 0x7fcc39d5c890>"
      ]
     },
     "execution_count": 28,
     "metadata": {},
     "output_type": "execute_result"
    },
    {
     "data": {
      "image/png": "[encoded data removed]",
      "text/plain": [
       "<Figure size 864x432 with 1 Axes>"
      ]
     },
     "metadata": {
      "needs_background": "light"
     },
     "output_type": "display_data"
    }
   ],
   "source": [
    "summary4c.plot(title='Scenario 4, Unique Run')"
   ]
  },
  {
   "cell_type": "markdown",
   "metadata": {},
   "source": [
    "Calculate the differences."
   ]
  },
  {
   "cell_type": "code",
   "execution_count": 29,
   "metadata": {},
   "outputs": [],
   "source": [
    "diff = out4ab - out4c"
   ]
  },
  {
   "cell_type": "markdown",
   "metadata": {},
   "source": [
    "Display the differences for the first few rows."
   ]
  },
  {
   "cell_type": "code",
   "execution_count": 30,
   "metadata": {},
   "outputs": [
    {
     "data": {
      "text/html": [
       "<div>\n",
       "<style scoped>\n",
       "    .dataframe tbody tr th:only-of-type {\n",
       "        vertical-align: middle;\n",
       "    }\n",
       "\n",
       "    .dataframe tbody tr th {\n",
       "        vertical-align: top;\n",
       "    }\n",
       "\n",
       "    .dataframe thead th {\n",
       "        text-align: right;\n",
       "    }\n",
       "</style>\n",
       "<table border=\"1\" class=\"dataframe\">\n",
       "  <thead>\n",
       "    <tr style=\"text-align: right;\">\n",
       "      <th></th>\n",
       "      <th>Random Generator</th>\n",
       "      <th>bet</th>\n",
       "      <th>02-2018</th>\n",
       "      <th>04-2018</th>\n",
       "      <th>06-2018</th>\n",
       "      <th>08-2018</th>\n",
       "      <th>10-2018</th>\n",
       "      <th>12-2018</th>\n",
       "      <th>02-2019</th>\n",
       "      <th>04-2019</th>\n",
       "      <th>...</th>\n",
       "      <th>06-2022</th>\n",
       "      <th>08-2022</th>\n",
       "      <th>10-2022</th>\n",
       "      <th>12-2022</th>\n",
       "      <th>02-2023</th>\n",
       "      <th>04-2023</th>\n",
       "      <th>06-2023</th>\n",
       "      <th>08-2023</th>\n",
       "      <th>10-2023</th>\n",
       "      <th>12-2023</th>\n",
       "    </tr>\n",
       "  </thead>\n",
       "  <tbody>\n",
       "    <tr>\n",
       "      <th>0</th>\n",
       "      <td>0</td>\n",
       "      <td>0.0</td>\n",
       "      <td>0.0</td>\n",
       "      <td>0.0</td>\n",
       "      <td>0.0</td>\n",
       "      <td>0.0</td>\n",
       "      <td>0.0</td>\n",
       "      <td>0.0</td>\n",
       "      <td>0.0</td>\n",
       "      <td>0.0</td>\n",
       "      <td>...</td>\n",
       "      <td>0.0</td>\n",
       "      <td>0.0</td>\n",
       "      <td>0.0</td>\n",
       "      <td>0.0</td>\n",
       "      <td>0.0</td>\n",
       "      <td>0.0</td>\n",
       "      <td>0.0</td>\n",
       "      <td>0.0</td>\n",
       "      <td>0.0</td>\n",
       "      <td>0.0</td>\n",
       "    </tr>\n",
       "    <tr>\n",
       "      <th>1</th>\n",
       "      <td>0</td>\n",
       "      <td>0.0</td>\n",
       "      <td>0.0</td>\n",
       "      <td>0.0</td>\n",
       "      <td>0.0</td>\n",
       "      <td>0.0</td>\n",
       "      <td>0.0</td>\n",
       "      <td>0.0</td>\n",
       "      <td>0.0</td>\n",
       "      <td>0.0</td>\n",
       "      <td>...</td>\n",
       "      <td>0.0</td>\n",
       "      <td>0.0</td>\n",
       "      <td>0.0</td>\n",
       "      <td>0.0</td>\n",
       "      <td>0.0</td>\n",
       "      <td>0.0</td>\n",
       "      <td>0.0</td>\n",
       "      <td>0.0</td>\n",
       "      <td>0.0</td>\n",
       "      <td>0.0</td>\n",
       "    </tr>\n",
       "    <tr>\n",
       "      <th>2</th>\n",
       "      <td>0</td>\n",
       "      <td>0.0</td>\n",
       "      <td>0.0</td>\n",
       "      <td>0.0</td>\n",
       "      <td>0.0</td>\n",
       "      <td>0.0</td>\n",
       "      <td>0.0</td>\n",
       "      <td>0.0</td>\n",
       "      <td>0.0</td>\n",
       "      <td>0.0</td>\n",
       "      <td>...</td>\n",
       "      <td>0.0</td>\n",
       "      <td>0.0</td>\n",
       "      <td>0.0</td>\n",
       "      <td>0.0</td>\n",
       "      <td>0.0</td>\n",
       "      <td>0.0</td>\n",
       "      <td>0.0</td>\n",
       "      <td>0.0</td>\n",
       "      <td>0.0</td>\n",
       "      <td>0.0</td>\n",
       "    </tr>\n",
       "    <tr>\n",
       "      <th>3</th>\n",
       "      <td>0</td>\n",
       "      <td>0.0</td>\n",
       "      <td>0.0</td>\n",
       "      <td>0.0</td>\n",
       "      <td>0.0</td>\n",
       "      <td>0.0</td>\n",
       "      <td>0.0</td>\n",
       "      <td>0.0</td>\n",
       "      <td>0.0</td>\n",
       "      <td>0.0</td>\n",
       "      <td>...</td>\n",
       "      <td>0.0</td>\n",
       "      <td>0.0</td>\n",
       "      <td>0.0</td>\n",
       "      <td>0.0</td>\n",
       "      <td>0.0</td>\n",
       "      <td>0.0</td>\n",
       "      <td>0.0</td>\n",
       "      <td>0.0</td>\n",
       "      <td>0.0</td>\n",
       "      <td>0.0</td>\n",
       "    </tr>\n",
       "    <tr>\n",
       "      <th>4</th>\n",
       "      <td>0</td>\n",
       "      <td>0.0</td>\n",
       "      <td>0.0</td>\n",
       "      <td>0.0</td>\n",
       "      <td>0.0</td>\n",
       "      <td>0.0</td>\n",
       "      <td>0.0</td>\n",
       "      <td>0.0</td>\n",
       "      <td>0.0</td>\n",
       "      <td>0.0</td>\n",
       "      <td>...</td>\n",
       "      <td>0.0</td>\n",
       "      <td>0.0</td>\n",
       "      <td>0.0</td>\n",
       "      <td>0.0</td>\n",
       "      <td>0.0</td>\n",
       "      <td>0.0</td>\n",
       "      <td>0.0</td>\n",
       "      <td>0.0</td>\n",
       "      <td>0.0</td>\n",
       "      <td>0.0</td>\n",
       "    </tr>\n",
       "  </tbody>\n",
       "</table>\n",
       "<p>5 rows × 38 columns</p>\n",
       "</div>"
      ],
      "text/plain": [
       "   Random Generator  bet  02-2018  04-2018  06-2018  08-2018  10-2018  \\\n",
       "0                 0  0.0      0.0      0.0      0.0      0.0      0.0   \n",
       "1                 0  0.0      0.0      0.0      0.0      0.0      0.0   \n",
       "2                 0  0.0      0.0      0.0      0.0      0.0      0.0   \n",
       "3                 0  0.0      0.0      0.0      0.0      0.0      0.0   \n",
       "4                 0  0.0      0.0      0.0      0.0      0.0      0.0   \n",
       "\n",
       "   12-2018  02-2019  04-2019  ...  06-2022  08-2022  10-2022  12-2022  \\\n",
       "0      0.0      0.0      0.0  ...      0.0      0.0      0.0      0.0   \n",
       "1      0.0      0.0      0.0  ...      0.0      0.0      0.0      0.0   \n",
       "2      0.0      0.0      0.0  ...      0.0      0.0      0.0      0.0   \n",
       "3      0.0      0.0      0.0  ...      0.0      0.0      0.0      0.0   \n",
       "4      0.0      0.0      0.0  ...      0.0      0.0      0.0      0.0   \n",
       "\n",
       "   02-2023  04-2023  06-2023  08-2023  10-2023  12-2023  \n",
       "0      0.0      0.0      0.0      0.0      0.0      0.0  \n",
       "1      0.0      0.0      0.0      0.0      0.0      0.0  \n",
       "2      0.0      0.0      0.0      0.0      0.0      0.0  \n",
       "3      0.0      0.0      0.0      0.0      0.0      0.0  \n",
       "4      0.0      0.0      0.0      0.0      0.0      0.0  \n",
       "\n",
       "[5 rows x 38 columns]"
      ]
     },
     "execution_count": 30,
     "metadata": {},
     "output_type": "execute_result"
    }
   ],
   "source": [
    "diff.head()"
   ]
  },
  {
   "cell_type": "markdown",
   "metadata": {},
   "source": [
    "Calculate the largest and smallest difference."
   ]
  },
  {
   "cell_type": "code",
   "execution_count": 31,
   "metadata": {},
   "outputs": [
    {
     "name": "stdout",
     "output_type": "stream",
     "text": [
      "Largest difference: 0.00\n",
      "Smallest difference: 0.00\n"
     ]
    }
   ],
   "source": [
    "print('Largest difference: ' + format(np.min(diff.values), '.2f'))\n",
    "print('Smallest difference: ' + format(np.max(diff.values), '.2f'))"
   ]
  },
  {
   "cell_type": "markdown",
   "metadata": {},
   "source": [
    "# Scenario 5"
   ]
  },
  {
   "cell_type": "markdown",
   "metadata": {},
   "source": [
    "The first set of simulations starts in 2018 and ends in 2020, while there is no MDA."
   ]
  },
  {
   "cell_type": "code",
   "execution_count": 32,
   "metadata": {},
   "outputs": [
    {
     "name": "stdout",
     "output_type": "stream",
     "text": [
      "Running time: 94 seconds.\n"
     ]
    }
   ],
   "source": [
    "BetFilePath = 'files/InputBet_scen1.csv'  \n",
    "MDAFilePath = 'files/InputMDA_scen5a.csv' \n",
    "PrevFilePath = 'files/OutputPrev_scen5a.csv'\n",
    "\n",
    "Trachoma_Simulation(BetFilePath=BetFilePath,\n",
    "                    MDAFilePath=MDAFilePath,\n",
    "                    PrevFilePath=PrevFilePath,\n",
    "                    SaveOutput=True,\n",
    "                    OutSimFilePath='files/OutputVals_scen5a.p',\n",
    "                    InSimFilePath=None)"
   ]
  },
  {
   "cell_type": "markdown",
   "metadata": {},
   "source": [
    "The second set of simulations starts in 2021 and ends in 2023, while there is still no MDA."
   ]
  },
  {
   "cell_type": "code",
   "execution_count": 33,
   "metadata": {},
   "outputs": [
    {
     "name": "stdout",
     "output_type": "stream",
     "text": [
      "Running time: 7 seconds.\n"
     ]
    }
   ],
   "source": [
    "BetFilePath = 'files/InputBet_scen1.csv'  \n",
    "MDAFilePath = 'files/InputMDA_scen5b.csv' \n",
    "PrevFilePath = 'files/OutputPrev_scen5b.csv'\n",
    "\n",
    "Trachoma_Simulation(BetFilePath=BetFilePath,\n",
    "                    MDAFilePath=MDAFilePath,\n",
    "                    PrevFilePath=PrevFilePath,\n",
    "                    SaveOutput=False,\n",
    "                    OutSimFilePath=None,\n",
    "                    InSimFilePath='files/OutputVals_scen5a.p')"
   ]
  },
  {
   "cell_type": "markdown",
   "metadata": {},
   "source": [
    "For comparison purposes, the following code generates a third set of simulations starting in 2018 and ending in 2023, with no MDA."
   ]
  },
  {
   "cell_type": "code",
   "execution_count": 34,
   "metadata": {},
   "outputs": [
    {
     "name": "stdout",
     "output_type": "stream",
     "text": [
      "Running time: 96 seconds.\n"
     ]
    }
   ],
   "source": [
    "BetFilePath = 'files/InputBet_scen1.csv'  \n",
    "MDAFilePath = 'files/InputMDA_scen5c.csv' \n",
    "PrevFilePath = 'files/OutputPrev_scen5c.csv'\n",
    "\n",
    "Trachoma_Simulation(BetFilePath=BetFilePath,\n",
    "                    MDAFilePath=MDAFilePath,\n",
    "                    PrevFilePath=PrevFilePath,\n",
    "                    SaveOutput=False,\n",
    "                    OutSimFilePath=None,\n",
    "                    InSimFilePath=None)"
   ]
  },
  {
   "cell_type": "markdown",
   "metadata": {},
   "source": [
    "Import the output CSV files with the simulated prevalence."
   ]
  },
  {
   "cell_type": "code",
   "execution_count": 35,
   "metadata": {},
   "outputs": [],
   "source": [
    "out5a = pd.read_csv('files/OutputPrev_scen5a.csv')\n",
    "out5b = pd.read_csv('files/OutputPrev_scen5b.csv')\n",
    "out5c = pd.read_csv('files/OutputPrev_scen5c.csv')"
   ]
  },
  {
   "cell_type": "markdown",
   "metadata": {},
   "source": [
    "Merge the first two CSV files."
   ]
  },
  {
   "cell_type": "code",
   "execution_count": 36,
   "metadata": {},
   "outputs": [],
   "source": [
    "out5ab = out5a.join(out5b.iloc[:, 2:])"
   ]
  },
  {
   "cell_type": "markdown",
   "metadata": {},
   "source": [
    "Display the first few rows."
   ]
  },
  {
   "cell_type": "code",
   "execution_count": 37,
   "metadata": {},
   "outputs": [
    {
     "data": {
      "text/html": [
       "<div>\n",
       "<style scoped>\n",
       "    .dataframe tbody tr th:only-of-type {\n",
       "        vertical-align: middle;\n",
       "    }\n",
       "\n",
       "    .dataframe tbody tr th {\n",
       "        vertical-align: top;\n",
       "    }\n",
       "\n",
       "    .dataframe thead th {\n",
       "        text-align: right;\n",
       "    }\n",
       "</style>\n",
       "<table border=\"1\" class=\"dataframe\">\n",
       "  <thead>\n",
       "    <tr style=\"text-align: right;\">\n",
       "      <th></th>\n",
       "      <th>Random Generator</th>\n",
       "      <th>bet</th>\n",
       "      <th>02-2018</th>\n",
       "      <th>04-2018</th>\n",
       "      <th>06-2018</th>\n",
       "      <th>08-2018</th>\n",
       "      <th>10-2018</th>\n",
       "      <th>12-2018</th>\n",
       "      <th>02-2019</th>\n",
       "      <th>04-2019</th>\n",
       "      <th>...</th>\n",
       "      <th>06-2022</th>\n",
       "      <th>08-2022</th>\n",
       "      <th>10-2022</th>\n",
       "      <th>12-2022</th>\n",
       "      <th>02-2023</th>\n",
       "      <th>04-2023</th>\n",
       "      <th>06-2023</th>\n",
       "      <th>08-2023</th>\n",
       "      <th>10-2023</th>\n",
       "      <th>12-2023</th>\n",
       "    </tr>\n",
       "  </thead>\n",
       "  <tbody>\n",
       "    <tr>\n",
       "      <th>0</th>\n",
       "      <td>1</td>\n",
       "      <td>0.085038</td>\n",
       "      <td>0.165179</td>\n",
       "      <td>0.152466</td>\n",
       "      <td>0.140909</td>\n",
       "      <td>0.112108</td>\n",
       "      <td>0.109091</td>\n",
       "      <td>0.110092</td>\n",
       "      <td>0.123288</td>\n",
       "      <td>0.126126</td>\n",
       "      <td>...</td>\n",
       "      <td>0.212121</td>\n",
       "      <td>0.227468</td>\n",
       "      <td>0.187234</td>\n",
       "      <td>0.212500</td>\n",
       "      <td>0.210970</td>\n",
       "      <td>0.205021</td>\n",
       "      <td>0.210744</td>\n",
       "      <td>0.218107</td>\n",
       "      <td>0.225410</td>\n",
       "      <td>0.199187</td>\n",
       "    </tr>\n",
       "    <tr>\n",
       "      <th>1</th>\n",
       "      <td>2</td>\n",
       "      <td>0.169913</td>\n",
       "      <td>0.446154</td>\n",
       "      <td>0.429119</td>\n",
       "      <td>0.432950</td>\n",
       "      <td>0.362595</td>\n",
       "      <td>0.352273</td>\n",
       "      <td>0.356589</td>\n",
       "      <td>0.325490</td>\n",
       "      <td>0.310757</td>\n",
       "      <td>...</td>\n",
       "      <td>0.388462</td>\n",
       "      <td>0.400000</td>\n",
       "      <td>0.416667</td>\n",
       "      <td>0.407843</td>\n",
       "      <td>0.429688</td>\n",
       "      <td>0.411765</td>\n",
       "      <td>0.392157</td>\n",
       "      <td>0.405512</td>\n",
       "      <td>0.379845</td>\n",
       "      <td>0.424710</td>\n",
       "    </tr>\n",
       "    <tr>\n",
       "      <th>2</th>\n",
       "      <td>3</td>\n",
       "      <td>0.210453</td>\n",
       "      <td>0.433333</td>\n",
       "      <td>0.434599</td>\n",
       "      <td>0.506276</td>\n",
       "      <td>0.559184</td>\n",
       "      <td>0.576613</td>\n",
       "      <td>0.568465</td>\n",
       "      <td>0.481013</td>\n",
       "      <td>0.471861</td>\n",
       "      <td>...</td>\n",
       "      <td>0.429204</td>\n",
       "      <td>0.435556</td>\n",
       "      <td>0.441048</td>\n",
       "      <td>0.434211</td>\n",
       "      <td>0.453333</td>\n",
       "      <td>0.429185</td>\n",
       "      <td>0.427966</td>\n",
       "      <td>0.380753</td>\n",
       "      <td>0.400000</td>\n",
       "      <td>0.425620</td>\n",
       "    </tr>\n",
       "    <tr>\n",
       "      <th>3</th>\n",
       "      <td>4</td>\n",
       "      <td>0.099770</td>\n",
       "      <td>0.248705</td>\n",
       "      <td>0.252525</td>\n",
       "      <td>0.226131</td>\n",
       "      <td>0.214286</td>\n",
       "      <td>0.226131</td>\n",
       "      <td>0.208955</td>\n",
       "      <td>0.188406</td>\n",
       "      <td>0.180095</td>\n",
       "      <td>...</td>\n",
       "      <td>0.210526</td>\n",
       "      <td>0.254032</td>\n",
       "      <td>0.259109</td>\n",
       "      <td>0.289796</td>\n",
       "      <td>0.278226</td>\n",
       "      <td>0.239044</td>\n",
       "      <td>0.256000</td>\n",
       "      <td>0.220472</td>\n",
       "      <td>0.231373</td>\n",
       "      <td>0.247059</td>\n",
       "    </tr>\n",
       "    <tr>\n",
       "      <th>4</th>\n",
       "      <td>5</td>\n",
       "      <td>0.068314</td>\n",
       "      <td>0.139344</td>\n",
       "      <td>0.135021</td>\n",
       "      <td>0.119149</td>\n",
       "      <td>0.128205</td>\n",
       "      <td>0.111588</td>\n",
       "      <td>0.085837</td>\n",
       "      <td>0.085106</td>\n",
       "      <td>0.088235</td>\n",
       "      <td>...</td>\n",
       "      <td>0.204819</td>\n",
       "      <td>0.201613</td>\n",
       "      <td>0.191057</td>\n",
       "      <td>0.201646</td>\n",
       "      <td>0.165975</td>\n",
       "      <td>0.176955</td>\n",
       "      <td>0.175000</td>\n",
       "      <td>0.152610</td>\n",
       "      <td>0.154150</td>\n",
       "      <td>0.160000</td>\n",
       "    </tr>\n",
       "  </tbody>\n",
       "</table>\n",
       "<p>5 rows × 38 columns</p>\n",
       "</div>"
      ],
      "text/plain": [
       "   Random Generator       bet   02-2018   04-2018   06-2018   08-2018  \\\n",
       "0                 1  0.085038  0.165179  0.152466  0.140909  0.112108   \n",
       "1                 2  0.169913  0.446154  0.429119  0.432950  0.362595   \n",
       "2                 3  0.210453  0.433333  0.434599  0.506276  0.559184   \n",
       "3                 4  0.099770  0.248705  0.252525  0.226131  0.214286   \n",
       "4                 5  0.068314  0.139344  0.135021  0.119149  0.128205   \n",
       "\n",
       "    10-2018   12-2018   02-2019   04-2019  ...   06-2022   08-2022   10-2022  \\\n",
       "0  0.109091  0.110092  0.123288  0.126126  ...  0.212121  0.227468  0.187234   \n",
       "1  0.352273  0.356589  0.325490  0.310757  ...  0.388462  0.400000  0.416667   \n",
       "2  0.576613  0.568465  0.481013  0.471861  ...  0.429204  0.435556  0.441048   \n",
       "3  0.226131  0.208955  0.188406  0.180095  ...  0.210526  0.254032  0.259109   \n",
       "4  0.111588  0.085837  0.085106  0.088235  ...  0.204819  0.201613  0.191057   \n",
       "\n",
       "    12-2022   02-2023   04-2023   06-2023   08-2023   10-2023   12-2023  \n",
       "0  0.212500  0.210970  0.205021  0.210744  0.218107  0.225410  0.199187  \n",
       "1  0.407843  0.429688  0.411765  0.392157  0.405512  0.379845  0.424710  \n",
       "2  0.434211  0.453333  0.429185  0.427966  0.380753  0.400000  0.425620  \n",
       "3  0.289796  0.278226  0.239044  0.256000  0.220472  0.231373  0.247059  \n",
       "4  0.201646  0.165975  0.176955  0.175000  0.152610  0.154150  0.160000  \n",
       "\n",
       "[5 rows x 38 columns]"
      ]
     },
     "execution_count": 37,
     "metadata": {},
     "output_type": "execute_result"
    }
   ],
   "source": [
    "out5ab.head()"
   ]
  },
  {
   "cell_type": "code",
   "execution_count": 38,
   "metadata": {
    "scrolled": true
   },
   "outputs": [
    {
     "data": {
      "text/html": [
       "<div>\n",
       "<style scoped>\n",
       "    .dataframe tbody tr th:only-of-type {\n",
       "        vertical-align: middle;\n",
       "    }\n",
       "\n",
       "    .dataframe tbody tr th {\n",
       "        vertical-align: top;\n",
       "    }\n",
       "\n",
       "    .dataframe thead th {\n",
       "        text-align: right;\n",
       "    }\n",
       "</style>\n",
       "<table border=\"1\" class=\"dataframe\">\n",
       "  <thead>\n",
       "    <tr style=\"text-align: right;\">\n",
       "      <th></th>\n",
       "      <th>Random Generator</th>\n",
       "      <th>bet</th>\n",
       "      <th>02-2018</th>\n",
       "      <th>04-2018</th>\n",
       "      <th>06-2018</th>\n",
       "      <th>08-2018</th>\n",
       "      <th>10-2018</th>\n",
       "      <th>12-2018</th>\n",
       "      <th>02-2019</th>\n",
       "      <th>04-2019</th>\n",
       "      <th>...</th>\n",
       "      <th>06-2022</th>\n",
       "      <th>08-2022</th>\n",
       "      <th>10-2022</th>\n",
       "      <th>12-2022</th>\n",
       "      <th>02-2023</th>\n",
       "      <th>04-2023</th>\n",
       "      <th>06-2023</th>\n",
       "      <th>08-2023</th>\n",
       "      <th>10-2023</th>\n",
       "      <th>12-2023</th>\n",
       "    </tr>\n",
       "  </thead>\n",
       "  <tbody>\n",
       "    <tr>\n",
       "      <th>0</th>\n",
       "      <td>1</td>\n",
       "      <td>0.085038</td>\n",
       "      <td>0.165179</td>\n",
       "      <td>0.152466</td>\n",
       "      <td>0.140909</td>\n",
       "      <td>0.112108</td>\n",
       "      <td>0.109091</td>\n",
       "      <td>0.110092</td>\n",
       "      <td>0.123288</td>\n",
       "      <td>0.126126</td>\n",
       "      <td>...</td>\n",
       "      <td>0.212121</td>\n",
       "      <td>0.227468</td>\n",
       "      <td>0.187234</td>\n",
       "      <td>0.212500</td>\n",
       "      <td>0.210970</td>\n",
       "      <td>0.205021</td>\n",
       "      <td>0.210744</td>\n",
       "      <td>0.218107</td>\n",
       "      <td>0.225410</td>\n",
       "      <td>0.199187</td>\n",
       "    </tr>\n",
       "    <tr>\n",
       "      <th>1</th>\n",
       "      <td>2</td>\n",
       "      <td>0.169913</td>\n",
       "      <td>0.446154</td>\n",
       "      <td>0.429119</td>\n",
       "      <td>0.432950</td>\n",
       "      <td>0.362595</td>\n",
       "      <td>0.352273</td>\n",
       "      <td>0.356589</td>\n",
       "      <td>0.325490</td>\n",
       "      <td>0.310757</td>\n",
       "      <td>...</td>\n",
       "      <td>0.388462</td>\n",
       "      <td>0.400000</td>\n",
       "      <td>0.416667</td>\n",
       "      <td>0.407843</td>\n",
       "      <td>0.429688</td>\n",
       "      <td>0.411765</td>\n",
       "      <td>0.392157</td>\n",
       "      <td>0.405512</td>\n",
       "      <td>0.379845</td>\n",
       "      <td>0.424710</td>\n",
       "    </tr>\n",
       "    <tr>\n",
       "      <th>2</th>\n",
       "      <td>3</td>\n",
       "      <td>0.210453</td>\n",
       "      <td>0.433333</td>\n",
       "      <td>0.434599</td>\n",
       "      <td>0.506276</td>\n",
       "      <td>0.559184</td>\n",
       "      <td>0.576613</td>\n",
       "      <td>0.568465</td>\n",
       "      <td>0.481013</td>\n",
       "      <td>0.471861</td>\n",
       "      <td>...</td>\n",
       "      <td>0.429204</td>\n",
       "      <td>0.435556</td>\n",
       "      <td>0.441048</td>\n",
       "      <td>0.434211</td>\n",
       "      <td>0.453333</td>\n",
       "      <td>0.429185</td>\n",
       "      <td>0.427966</td>\n",
       "      <td>0.380753</td>\n",
       "      <td>0.400000</td>\n",
       "      <td>0.425620</td>\n",
       "    </tr>\n",
       "    <tr>\n",
       "      <th>3</th>\n",
       "      <td>4</td>\n",
       "      <td>0.099770</td>\n",
       "      <td>0.248705</td>\n",
       "      <td>0.252525</td>\n",
       "      <td>0.226131</td>\n",
       "      <td>0.214286</td>\n",
       "      <td>0.226131</td>\n",
       "      <td>0.208955</td>\n",
       "      <td>0.188406</td>\n",
       "      <td>0.180095</td>\n",
       "      <td>...</td>\n",
       "      <td>0.210526</td>\n",
       "      <td>0.254032</td>\n",
       "      <td>0.259109</td>\n",
       "      <td>0.289796</td>\n",
       "      <td>0.278226</td>\n",
       "      <td>0.239044</td>\n",
       "      <td>0.256000</td>\n",
       "      <td>0.220472</td>\n",
       "      <td>0.231373</td>\n",
       "      <td>0.247059</td>\n",
       "    </tr>\n",
       "    <tr>\n",
       "      <th>4</th>\n",
       "      <td>5</td>\n",
       "      <td>0.068314</td>\n",
       "      <td>0.139344</td>\n",
       "      <td>0.135021</td>\n",
       "      <td>0.119149</td>\n",
       "      <td>0.128205</td>\n",
       "      <td>0.111588</td>\n",
       "      <td>0.085837</td>\n",
       "      <td>0.085106</td>\n",
       "      <td>0.088235</td>\n",
       "      <td>...</td>\n",
       "      <td>0.204819</td>\n",
       "      <td>0.201613</td>\n",
       "      <td>0.191057</td>\n",
       "      <td>0.201646</td>\n",
       "      <td>0.165975</td>\n",
       "      <td>0.176955</td>\n",
       "      <td>0.175000</td>\n",
       "      <td>0.152610</td>\n",
       "      <td>0.154150</td>\n",
       "      <td>0.160000</td>\n",
       "    </tr>\n",
       "  </tbody>\n",
       "</table>\n",
       "<p>5 rows × 38 columns</p>\n",
       "</div>"
      ],
      "text/plain": [
       "   Random Generator       bet   02-2018   04-2018   06-2018   08-2018  \\\n",
       "0                 1  0.085038  0.165179  0.152466  0.140909  0.112108   \n",
       "1                 2  0.169913  0.446154  0.429119  0.432950  0.362595   \n",
       "2                 3  0.210453  0.433333  0.434599  0.506276  0.559184   \n",
       "3                 4  0.099770  0.248705  0.252525  0.226131  0.214286   \n",
       "4                 5  0.068314  0.139344  0.135021  0.119149  0.128205   \n",
       "\n",
       "    10-2018   12-2018   02-2019   04-2019  ...   06-2022   08-2022   10-2022  \\\n",
       "0  0.109091  0.110092  0.123288  0.126126  ...  0.212121  0.227468  0.187234   \n",
       "1  0.352273  0.356589  0.325490  0.310757  ...  0.388462  0.400000  0.416667   \n",
       "2  0.576613  0.568465  0.481013  0.471861  ...  0.429204  0.435556  0.441048   \n",
       "3  0.226131  0.208955  0.188406  0.180095  ...  0.210526  0.254032  0.259109   \n",
       "4  0.111588  0.085837  0.085106  0.088235  ...  0.204819  0.201613  0.191057   \n",
       "\n",
       "    12-2022   02-2023   04-2023   06-2023   08-2023   10-2023   12-2023  \n",
       "0  0.212500  0.210970  0.205021  0.210744  0.218107  0.225410  0.199187  \n",
       "1  0.407843  0.429688  0.411765  0.392157  0.405512  0.379845  0.424710  \n",
       "2  0.434211  0.453333  0.429185  0.427966  0.380753  0.400000  0.425620  \n",
       "3  0.289796  0.278226  0.239044  0.256000  0.220472  0.231373  0.247059  \n",
       "4  0.201646  0.165975  0.176955  0.175000  0.152610  0.154150  0.160000  \n",
       "\n",
       "[5 rows x 38 columns]"
      ]
     },
     "execution_count": 38,
     "metadata": {},
     "output_type": "execute_result"
    }
   ],
   "source": [
    "out5c.head()"
   ]
  },
  {
   "cell_type": "code",
   "execution_count": 39,
   "metadata": {},
   "outputs": [],
   "source": [
    "summary5ab = pd.DataFrame({'Median': out5ab.iloc[:, 2:].median(),\n",
    "                           '25th Percentile': out5ab.iloc[:, 2:].quantile(0.25),\n",
    "                           '75th Percentile': out5ab.iloc[:, 2:].quantile(0.75)})"
   ]
  },
  {
   "cell_type": "code",
   "execution_count": 40,
   "metadata": {},
   "outputs": [],
   "source": [
    "summary5c = pd.DataFrame({'Median': out5c.iloc[:, 2:].median(),\n",
    "                          '25th Percentile': out5c.iloc[:, 2:].quantile(0.25),\n",
    "                          '75th Percentile': out5c.iloc[:, 2:].quantile(0.75)})"
   ]
  },
  {
   "cell_type": "markdown",
   "metadata": {},
   "source": [
    "Plot the descriptive statistics."
   ]
  },
  {
   "cell_type": "code",
   "execution_count": 41,
   "metadata": {},
   "outputs": [
    {
     "data": {
      "text/plain": [
       "<matplotlib.axes._subplots.AxesSubplot at 0x7fcc2704be90>"
      ]
     },
     "execution_count": 41,
     "metadata": {},
     "output_type": "execute_result"
    },
    {
     "data": {
      "image/png": "[encoded data removed]",
      "text/plain": [
       "<Figure size 864x432 with 1 Axes>"
      ]
     },
     "metadata": {
      "needs_background": "light"
     },
     "output_type": "display_data"
    }
   ],
   "source": [
    "summary5ab.plot(title='Scenario 5, Separate Runs')"
   ]
  },
  {
   "cell_type": "code",
   "execution_count": 42,
   "metadata": {
    "scrolled": true
   },
   "outputs": [
    {
     "data": {
      "text/plain": [
       "<matplotlib.axes._subplots.AxesSubplot at 0x7fcc406d2150>"
      ]
     },
     "execution_count": 42,
     "metadata": {},
     "output_type": "execute_result"
    },
    {
     "data": {
      "image/png": "[encoded data removed]",
      "text/plain": [
       "<Figure size 864x432 with 1 Axes>"
      ]
     },
     "metadata": {
      "needs_background": "light"
     },
     "output_type": "display_data"
    }
   ],
   "source": [
    "summary5c.plot(title='Scenario 5, Unique Run')"
   ]
  },
  {
   "cell_type": "markdown",
   "metadata": {},
   "source": [
    "Calculate the differences."
   ]
  },
  {
   "cell_type": "code",
   "execution_count": 43,
   "metadata": {},
   "outputs": [],
   "source": [
    "diff = out5ab - out5c"
   ]
  },
  {
   "cell_type": "markdown",
   "metadata": {},
   "source": [
    "Display the differences for the first few rows."
   ]
  },
  {
   "cell_type": "code",
   "execution_count": 44,
   "metadata": {
    "scrolled": true
   },
   "outputs": [
    {
     "data": {
      "text/html": [
       "<div>\n",
       "<style scoped>\n",
       "    .dataframe tbody tr th:only-of-type {\n",
       "        vertical-align: middle;\n",
       "    }\n",
       "\n",
       "    .dataframe tbody tr th {\n",
       "        vertical-align: top;\n",
       "    }\n",
       "\n",
       "    .dataframe thead th {\n",
       "        text-align: right;\n",
       "    }\n",
       "</style>\n",
       "<table border=\"1\" class=\"dataframe\">\n",
       "  <thead>\n",
       "    <tr style=\"text-align: right;\">\n",
       "      <th></th>\n",
       "      <th>Random Generator</th>\n",
       "      <th>bet</th>\n",
       "      <th>02-2018</th>\n",
       "      <th>04-2018</th>\n",
       "      <th>06-2018</th>\n",
       "      <th>08-2018</th>\n",
       "      <th>10-2018</th>\n",
       "      <th>12-2018</th>\n",
       "      <th>02-2019</th>\n",
       "      <th>04-2019</th>\n",
       "      <th>...</th>\n",
       "      <th>06-2022</th>\n",
       "      <th>08-2022</th>\n",
       "      <th>10-2022</th>\n",
       "      <th>12-2022</th>\n",
       "      <th>02-2023</th>\n",
       "      <th>04-2023</th>\n",
       "      <th>06-2023</th>\n",
       "      <th>08-2023</th>\n",
       "      <th>10-2023</th>\n",
       "      <th>12-2023</th>\n",
       "    </tr>\n",
       "  </thead>\n",
       "  <tbody>\n",
       "    <tr>\n",
       "      <th>0</th>\n",
       "      <td>0</td>\n",
       "      <td>0.0</td>\n",
       "      <td>0.0</td>\n",
       "      <td>0.0</td>\n",
       "      <td>0.0</td>\n",
       "      <td>0.0</td>\n",
       "      <td>0.0</td>\n",
       "      <td>0.0</td>\n",
       "      <td>0.0</td>\n",
       "      <td>0.0</td>\n",
       "      <td>...</td>\n",
       "      <td>0.0</td>\n",
       "      <td>0.0</td>\n",
       "      <td>0.0</td>\n",
       "      <td>0.0</td>\n",
       "      <td>0.0</td>\n",
       "      <td>0.0</td>\n",
       "      <td>0.0</td>\n",
       "      <td>0.0</td>\n",
       "      <td>0.0</td>\n",
       "      <td>0.0</td>\n",
       "    </tr>\n",
       "    <tr>\n",
       "      <th>1</th>\n",
       "      <td>0</td>\n",
       "      <td>0.0</td>\n",
       "      <td>0.0</td>\n",
       "      <td>0.0</td>\n",
       "      <td>0.0</td>\n",
       "      <td>0.0</td>\n",
       "      <td>0.0</td>\n",
       "      <td>0.0</td>\n",
       "      <td>0.0</td>\n",
       "      <td>0.0</td>\n",
       "      <td>...</td>\n",
       "      <td>0.0</td>\n",
       "      <td>0.0</td>\n",
       "      <td>0.0</td>\n",
       "      <td>0.0</td>\n",
       "      <td>0.0</td>\n",
       "      <td>0.0</td>\n",
       "      <td>0.0</td>\n",
       "      <td>0.0</td>\n",
       "      <td>0.0</td>\n",
       "      <td>0.0</td>\n",
       "    </tr>\n",
       "    <tr>\n",
       "      <th>2</th>\n",
       "      <td>0</td>\n",
       "      <td>0.0</td>\n",
       "      <td>0.0</td>\n",
       "      <td>0.0</td>\n",
       "      <td>0.0</td>\n",
       "      <td>0.0</td>\n",
       "      <td>0.0</td>\n",
       "      <td>0.0</td>\n",
       "      <td>0.0</td>\n",
       "      <td>0.0</td>\n",
       "      <td>...</td>\n",
       "      <td>0.0</td>\n",
       "      <td>0.0</td>\n",
       "      <td>0.0</td>\n",
       "      <td>0.0</td>\n",
       "      <td>0.0</td>\n",
       "      <td>0.0</td>\n",
       "      <td>0.0</td>\n",
       "      <td>0.0</td>\n",
       "      <td>0.0</td>\n",
       "      <td>0.0</td>\n",
       "    </tr>\n",
       "    <tr>\n",
       "      <th>3</th>\n",
       "      <td>0</td>\n",
       "      <td>0.0</td>\n",
       "      <td>0.0</td>\n",
       "      <td>0.0</td>\n",
       "      <td>0.0</td>\n",
       "      <td>0.0</td>\n",
       "      <td>0.0</td>\n",
       "      <td>0.0</td>\n",
       "      <td>0.0</td>\n",
       "      <td>0.0</td>\n",
       "      <td>...</td>\n",
       "      <td>0.0</td>\n",
       "      <td>0.0</td>\n",
       "      <td>0.0</td>\n",
       "      <td>0.0</td>\n",
       "      <td>0.0</td>\n",
       "      <td>0.0</td>\n",
       "      <td>0.0</td>\n",
       "      <td>0.0</td>\n",
       "      <td>0.0</td>\n",
       "      <td>0.0</td>\n",
       "    </tr>\n",
       "    <tr>\n",
       "      <th>4</th>\n",
       "      <td>0</td>\n",
       "      <td>0.0</td>\n",
       "      <td>0.0</td>\n",
       "      <td>0.0</td>\n",
       "      <td>0.0</td>\n",
       "      <td>0.0</td>\n",
       "      <td>0.0</td>\n",
       "      <td>0.0</td>\n",
       "      <td>0.0</td>\n",
       "      <td>0.0</td>\n",
       "      <td>...</td>\n",
       "      <td>0.0</td>\n",
       "      <td>0.0</td>\n",
       "      <td>0.0</td>\n",
       "      <td>0.0</td>\n",
       "      <td>0.0</td>\n",
       "      <td>0.0</td>\n",
       "      <td>0.0</td>\n",
       "      <td>0.0</td>\n",
       "      <td>0.0</td>\n",
       "      <td>0.0</td>\n",
       "    </tr>\n",
       "  </tbody>\n",
       "</table>\n",
       "<p>5 rows × 38 columns</p>\n",
       "</div>"
      ],
      "text/plain": [
       "   Random Generator  bet  02-2018  04-2018  06-2018  08-2018  10-2018  \\\n",
       "0                 0  0.0      0.0      0.0      0.0      0.0      0.0   \n",
       "1                 0  0.0      0.0      0.0      0.0      0.0      0.0   \n",
       "2                 0  0.0      0.0      0.0      0.0      0.0      0.0   \n",
       "3                 0  0.0      0.0      0.0      0.0      0.0      0.0   \n",
       "4                 0  0.0      0.0      0.0      0.0      0.0      0.0   \n",
       "\n",
       "   12-2018  02-2019  04-2019  ...  06-2022  08-2022  10-2022  12-2022  \\\n",
       "0      0.0      0.0      0.0  ...      0.0      0.0      0.0      0.0   \n",
       "1      0.0      0.0      0.0  ...      0.0      0.0      0.0      0.0   \n",
       "2      0.0      0.0      0.0  ...      0.0      0.0      0.0      0.0   \n",
       "3      0.0      0.0      0.0  ...      0.0      0.0      0.0      0.0   \n",
       "4      0.0      0.0      0.0  ...      0.0      0.0      0.0      0.0   \n",
       "\n",
       "   02-2023  04-2023  06-2023  08-2023  10-2023  12-2023  \n",
       "0      0.0      0.0      0.0      0.0      0.0      0.0  \n",
       "1      0.0      0.0      0.0      0.0      0.0      0.0  \n",
       "2      0.0      0.0      0.0      0.0      0.0      0.0  \n",
       "3      0.0      0.0      0.0      0.0      0.0      0.0  \n",
       "4      0.0      0.0      0.0      0.0      0.0      0.0  \n",
       "\n",
       "[5 rows x 38 columns]"
      ]
     },
     "execution_count": 44,
     "metadata": {},
     "output_type": "execute_result"
    }
   ],
   "source": [
    "diff.head()"
   ]
  },
  {
   "cell_type": "markdown",
   "metadata": {},
   "source": [
    "Calculate the largest and smallest difference."
   ]
  },
  {
   "cell_type": "code",
   "execution_count": 45,
   "metadata": {},
   "outputs": [
    {
     "name": "stdout",
     "output_type": "stream",
     "text": [
      "Largest difference: 0.00\n",
      "Smallest difference: 0.00\n"
     ]
    }
   ],
   "source": [
    "print('Largest difference: ' + format(np.min(diff.values), '.2f'))\n",
    "print('Smallest difference: ' + format(np.max(diff.values), '.2f'))"
   ]
  },
  {
   "cell_type": "markdown",
   "metadata": {},
   "source": [
    "# Scenario 6"
   ]
  },
  {
   "cell_type": "markdown",
   "metadata": {},
   "source": [
    "The first set of simulations starts in 2018 and ends in 2020, while there is no MDA."
   ]
  },
  {
   "cell_type": "code",
   "execution_count": 46,
   "metadata": {},
   "outputs": [
    {
     "name": "stdout",
     "output_type": "stream",
     "text": [
      "Running time: 91 seconds.\n"
     ]
    }
   ],
   "source": [
    "BetFilePath = 'files/InputBet_scen1.csv'  \n",
    "MDAFilePath = 'files/InputMDA_scen6a.csv' \n",
    "PrevFilePath = 'files/OutputPrev_scen6a.csv'\n",
    "\n",
    "Trachoma_Simulation(BetFilePath=BetFilePath,\n",
    "                    MDAFilePath=MDAFilePath,\n",
    "                    PrevFilePath=PrevFilePath,\n",
    "                    SaveOutput=True,\n",
    "                    OutSimFilePath='files/OutputVals_scen6a.p',\n",
    "                    InSimFilePath=None)"
   ]
  },
  {
   "cell_type": "markdown",
   "metadata": {},
   "source": [
    "The second set of simulations starts in 2021 and ends in 2023, with MDA also from 2021 to 2023."
   ]
  },
  {
   "cell_type": "code",
   "execution_count": 47,
   "metadata": {},
   "outputs": [
    {
     "name": "stdout",
     "output_type": "stream",
     "text": [
      "Running time: 8 seconds.\n"
     ]
    }
   ],
   "source": [
    "BetFilePath = 'files/InputBet_scen1.csv'  \n",
    "MDAFilePath = 'files/InputMDA_scen6b.csv' \n",
    "PrevFilePath = 'files/OutputPrev_scen6b.csv'\n",
    "\n",
    "Trachoma_Simulation(BetFilePath=BetFilePath,\n",
    "                    MDAFilePath=MDAFilePath,\n",
    "                    PrevFilePath=PrevFilePath,\n",
    "                    SaveOutput=False,\n",
    "                    OutSimFilePath=None,\n",
    "                    InSimFilePath='files/OutputVals_scen6a.p')"
   ]
  },
  {
   "cell_type": "markdown",
   "metadata": {},
   "source": [
    "For comparison purposes, the following code generates a third set of simulations starting in 2018 and ending in 2023, with MDA from 2021 to 2023."
   ]
  },
  {
   "cell_type": "code",
   "execution_count": 48,
   "metadata": {},
   "outputs": [
    {
     "name": "stdout",
     "output_type": "stream",
     "text": [
      "Running time: 99 seconds.\n"
     ]
    }
   ],
   "source": [
    "BetFilePath = 'files/InputBet_scen1.csv'  \n",
    "MDAFilePath = 'files/InputMDA_scen6c.csv' \n",
    "PrevFilePath = 'files/OutputPrev_scen6c.csv'\n",
    "\n",
    "Trachoma_Simulation(BetFilePath=BetFilePath,\n",
    "                    MDAFilePath=MDAFilePath,\n",
    "                    PrevFilePath=PrevFilePath,\n",
    "                    SaveOutput=False,\n",
    "                    OutSimFilePath=None,\n",
    "                    InSimFilePath=None)"
   ]
  },
  {
   "cell_type": "markdown",
   "metadata": {},
   "source": [
    "Import the output CSV files with the simulated prevalence."
   ]
  },
  {
   "cell_type": "code",
   "execution_count": 49,
   "metadata": {},
   "outputs": [],
   "source": [
    "out6a = pd.read_csv('files/OutputPrev_scen6a.csv')\n",
    "out6b = pd.read_csv('files/OutputPrev_scen6b.csv')\n",
    "out6c = pd.read_csv('files/OutputPrev_scen6c.csv')"
   ]
  },
  {
   "cell_type": "markdown",
   "metadata": {},
   "source": [
    "Merge the first two CSV files."
   ]
  },
  {
   "cell_type": "code",
   "execution_count": 50,
   "metadata": {},
   "outputs": [],
   "source": [
    "out6ab = out6a.join(out6b.iloc[:, 2:])"
   ]
  },
  {
   "cell_type": "markdown",
   "metadata": {},
   "source": [
    "Display the first few rows."
   ]
  },
  {
   "cell_type": "code",
   "execution_count": 51,
   "metadata": {},
   "outputs": [
    {
     "data": {
      "text/html": [
       "<div>\n",
       "<style scoped>\n",
       "    .dataframe tbody tr th:only-of-type {\n",
       "        vertical-align: middle;\n",
       "    }\n",
       "\n",
       "    .dataframe tbody tr th {\n",
       "        vertical-align: top;\n",
       "    }\n",
       "\n",
       "    .dataframe thead th {\n",
       "        text-align: right;\n",
       "    }\n",
       "</style>\n",
       "<table border=\"1\" class=\"dataframe\">\n",
       "  <thead>\n",
       "    <tr style=\"text-align: right;\">\n",
       "      <th></th>\n",
       "      <th>Random Generator</th>\n",
       "      <th>bet</th>\n",
       "      <th>02-2018</th>\n",
       "      <th>04-2018</th>\n",
       "      <th>06-2018</th>\n",
       "      <th>08-2018</th>\n",
       "      <th>10-2018</th>\n",
       "      <th>12-2018</th>\n",
       "      <th>02-2019</th>\n",
       "      <th>04-2019</th>\n",
       "      <th>...</th>\n",
       "      <th>06-2022</th>\n",
       "      <th>08-2022</th>\n",
       "      <th>10-2022</th>\n",
       "      <th>12-2022</th>\n",
       "      <th>02-2023</th>\n",
       "      <th>04-2023</th>\n",
       "      <th>06-2023</th>\n",
       "      <th>08-2023</th>\n",
       "      <th>10-2023</th>\n",
       "      <th>12-2023</th>\n",
       "    </tr>\n",
       "  </thead>\n",
       "  <tbody>\n",
       "    <tr>\n",
       "      <th>0</th>\n",
       "      <td>1</td>\n",
       "      <td>0.085038</td>\n",
       "      <td>0.165179</td>\n",
       "      <td>0.152466</td>\n",
       "      <td>0.140909</td>\n",
       "      <td>0.112108</td>\n",
       "      <td>0.109091</td>\n",
       "      <td>0.110092</td>\n",
       "      <td>0.123288</td>\n",
       "      <td>0.126126</td>\n",
       "      <td>...</td>\n",
       "      <td>0.144737</td>\n",
       "      <td>0.134199</td>\n",
       "      <td>0.121212</td>\n",
       "      <td>0.107296</td>\n",
       "      <td>0.088235</td>\n",
       "      <td>0.066946</td>\n",
       "      <td>0.048980</td>\n",
       "      <td>0.044898</td>\n",
       "      <td>0.037344</td>\n",
       "      <td>0.036885</td>\n",
       "    </tr>\n",
       "    <tr>\n",
       "      <th>1</th>\n",
       "      <td>2</td>\n",
       "      <td>0.169913</td>\n",
       "      <td>0.446154</td>\n",
       "      <td>0.429119</td>\n",
       "      <td>0.432950</td>\n",
       "      <td>0.362595</td>\n",
       "      <td>0.352273</td>\n",
       "      <td>0.356589</td>\n",
       "      <td>0.325490</td>\n",
       "      <td>0.310757</td>\n",
       "      <td>...</td>\n",
       "      <td>0.293436</td>\n",
       "      <td>0.272374</td>\n",
       "      <td>0.231373</td>\n",
       "      <td>0.200787</td>\n",
       "      <td>0.195312</td>\n",
       "      <td>0.162698</td>\n",
       "      <td>0.108108</td>\n",
       "      <td>0.082677</td>\n",
       "      <td>0.062016</td>\n",
       "      <td>0.058140</td>\n",
       "    </tr>\n",
       "    <tr>\n",
       "      <th>2</th>\n",
       "      <td>3</td>\n",
       "      <td>0.210453</td>\n",
       "      <td>0.433333</td>\n",
       "      <td>0.434599</td>\n",
       "      <td>0.506276</td>\n",
       "      <td>0.559184</td>\n",
       "      <td>0.576613</td>\n",
       "      <td>0.568465</td>\n",
       "      <td>0.481013</td>\n",
       "      <td>0.471861</td>\n",
       "      <td>...</td>\n",
       "      <td>0.343478</td>\n",
       "      <td>0.257642</td>\n",
       "      <td>0.241379</td>\n",
       "      <td>0.230435</td>\n",
       "      <td>0.222707</td>\n",
       "      <td>0.182979</td>\n",
       "      <td>0.150000</td>\n",
       "      <td>0.133891</td>\n",
       "      <td>0.100000</td>\n",
       "      <td>0.098765</td>\n",
       "    </tr>\n",
       "    <tr>\n",
       "      <th>3</th>\n",
       "      <td>4</td>\n",
       "      <td>0.099770</td>\n",
       "      <td>0.248705</td>\n",
       "      <td>0.252525</td>\n",
       "      <td>0.226131</td>\n",
       "      <td>0.214286</td>\n",
       "      <td>0.226131</td>\n",
       "      <td>0.208955</td>\n",
       "      <td>0.188406</td>\n",
       "      <td>0.180095</td>\n",
       "      <td>...</td>\n",
       "      <td>0.128514</td>\n",
       "      <td>0.128514</td>\n",
       "      <td>0.120968</td>\n",
       "      <td>0.104839</td>\n",
       "      <td>0.082677</td>\n",
       "      <td>0.062257</td>\n",
       "      <td>0.054688</td>\n",
       "      <td>0.050193</td>\n",
       "      <td>0.050388</td>\n",
       "      <td>0.049808</td>\n",
       "    </tr>\n",
       "    <tr>\n",
       "      <th>4</th>\n",
       "      <td>5</td>\n",
       "      <td>0.068314</td>\n",
       "      <td>0.139344</td>\n",
       "      <td>0.135021</td>\n",
       "      <td>0.119149</td>\n",
       "      <td>0.128205</td>\n",
       "      <td>0.111588</td>\n",
       "      <td>0.085837</td>\n",
       "      <td>0.085106</td>\n",
       "      <td>0.088235</td>\n",
       "      <td>...</td>\n",
       "      <td>0.149194</td>\n",
       "      <td>0.131474</td>\n",
       "      <td>0.108000</td>\n",
       "      <td>0.089796</td>\n",
       "      <td>0.052419</td>\n",
       "      <td>0.044355</td>\n",
       "      <td>0.028571</td>\n",
       "      <td>0.020161</td>\n",
       "      <td>0.019841</td>\n",
       "      <td>0.011858</td>\n",
       "    </tr>\n",
       "  </tbody>\n",
       "</table>\n",
       "<p>5 rows × 38 columns</p>\n",
       "</div>"
      ],
      "text/plain": [
       "   Random Generator       bet   02-2018   04-2018   06-2018   08-2018  \\\n",
       "0                 1  0.085038  0.165179  0.152466  0.140909  0.112108   \n",
       "1                 2  0.169913  0.446154  0.429119  0.432950  0.362595   \n",
       "2                 3  0.210453  0.433333  0.434599  0.506276  0.559184   \n",
       "3                 4  0.099770  0.248705  0.252525  0.226131  0.214286   \n",
       "4                 5  0.068314  0.139344  0.135021  0.119149  0.128205   \n",
       "\n",
       "    10-2018   12-2018   02-2019   04-2019  ...   06-2022   08-2022   10-2022  \\\n",
       "0  0.109091  0.110092  0.123288  0.126126  ...  0.144737  0.134199  0.121212   \n",
       "1  0.352273  0.356589  0.325490  0.310757  ...  0.293436  0.272374  0.231373   \n",
       "2  0.576613  0.568465  0.481013  0.471861  ...  0.343478  0.257642  0.241379   \n",
       "3  0.226131  0.208955  0.188406  0.180095  ...  0.128514  0.128514  0.120968   \n",
       "4  0.111588  0.085837  0.085106  0.088235  ...  0.149194  0.131474  0.108000   \n",
       "\n",
       "    12-2022   02-2023   04-2023   06-2023   08-2023   10-2023   12-2023  \n",
       "0  0.107296  0.088235  0.066946  0.048980  0.044898  0.037344  0.036885  \n",
       "1  0.200787  0.195312  0.162698  0.108108  0.082677  0.062016  0.058140  \n",
       "2  0.230435  0.222707  0.182979  0.150000  0.133891  0.100000  0.098765  \n",
       "3  0.104839  0.082677  0.062257  0.054688  0.050193  0.050388  0.049808  \n",
       "4  0.089796  0.052419  0.044355  0.028571  0.020161  0.019841  0.011858  \n",
       "\n",
       "[5 rows x 38 columns]"
      ]
     },
     "execution_count": 51,
     "metadata": {},
     "output_type": "execute_result"
    }
   ],
   "source": [
    "out6ab.head()"
   ]
  },
  {
   "cell_type": "code",
   "execution_count": 52,
   "metadata": {
    "scrolled": true
   },
   "outputs": [
    {
     "data": {
      "text/html": [
       "<div>\n",
       "<style scoped>\n",
       "    .dataframe tbody tr th:only-of-type {\n",
       "        vertical-align: middle;\n",
       "    }\n",
       "\n",
       "    .dataframe tbody tr th {\n",
       "        vertical-align: top;\n",
       "    }\n",
       "\n",
       "    .dataframe thead th {\n",
       "        text-align: right;\n",
       "    }\n",
       "</style>\n",
       "<table border=\"1\" class=\"dataframe\">\n",
       "  <thead>\n",
       "    <tr style=\"text-align: right;\">\n",
       "      <th></th>\n",
       "      <th>Random Generator</th>\n",
       "      <th>bet</th>\n",
       "      <th>02-2018</th>\n",
       "      <th>04-2018</th>\n",
       "      <th>06-2018</th>\n",
       "      <th>08-2018</th>\n",
       "      <th>10-2018</th>\n",
       "      <th>12-2018</th>\n",
       "      <th>02-2019</th>\n",
       "      <th>04-2019</th>\n",
       "      <th>...</th>\n",
       "      <th>06-2022</th>\n",
       "      <th>08-2022</th>\n",
       "      <th>10-2022</th>\n",
       "      <th>12-2022</th>\n",
       "      <th>02-2023</th>\n",
       "      <th>04-2023</th>\n",
       "      <th>06-2023</th>\n",
       "      <th>08-2023</th>\n",
       "      <th>10-2023</th>\n",
       "      <th>12-2023</th>\n",
       "    </tr>\n",
       "  </thead>\n",
       "  <tbody>\n",
       "    <tr>\n",
       "      <th>0</th>\n",
       "      <td>1</td>\n",
       "      <td>0.085038</td>\n",
       "      <td>0.165179</td>\n",
       "      <td>0.152466</td>\n",
       "      <td>0.140909</td>\n",
       "      <td>0.112108</td>\n",
       "      <td>0.109091</td>\n",
       "      <td>0.110092</td>\n",
       "      <td>0.123288</td>\n",
       "      <td>0.126126</td>\n",
       "      <td>...</td>\n",
       "      <td>0.144737</td>\n",
       "      <td>0.134199</td>\n",
       "      <td>0.121212</td>\n",
       "      <td>0.107296</td>\n",
       "      <td>0.088235</td>\n",
       "      <td>0.066946</td>\n",
       "      <td>0.048980</td>\n",
       "      <td>0.044898</td>\n",
       "      <td>0.037344</td>\n",
       "      <td>0.036885</td>\n",
       "    </tr>\n",
       "    <tr>\n",
       "      <th>1</th>\n",
       "      <td>2</td>\n",
       "      <td>0.169913</td>\n",
       "      <td>0.446154</td>\n",
       "      <td>0.429119</td>\n",
       "      <td>0.432950</td>\n",
       "      <td>0.362595</td>\n",
       "      <td>0.352273</td>\n",
       "      <td>0.356589</td>\n",
       "      <td>0.325490</td>\n",
       "      <td>0.310757</td>\n",
       "      <td>...</td>\n",
       "      <td>0.293436</td>\n",
       "      <td>0.272374</td>\n",
       "      <td>0.231373</td>\n",
       "      <td>0.200787</td>\n",
       "      <td>0.195312</td>\n",
       "      <td>0.162698</td>\n",
       "      <td>0.108108</td>\n",
       "      <td>0.082677</td>\n",
       "      <td>0.062016</td>\n",
       "      <td>0.058140</td>\n",
       "    </tr>\n",
       "    <tr>\n",
       "      <th>2</th>\n",
       "      <td>3</td>\n",
       "      <td>0.210453</td>\n",
       "      <td>0.433333</td>\n",
       "      <td>0.434599</td>\n",
       "      <td>0.506276</td>\n",
       "      <td>0.559184</td>\n",
       "      <td>0.576613</td>\n",
       "      <td>0.568465</td>\n",
       "      <td>0.481013</td>\n",
       "      <td>0.471861</td>\n",
       "      <td>...</td>\n",
       "      <td>0.343478</td>\n",
       "      <td>0.257642</td>\n",
       "      <td>0.241379</td>\n",
       "      <td>0.230435</td>\n",
       "      <td>0.222707</td>\n",
       "      <td>0.182979</td>\n",
       "      <td>0.150000</td>\n",
       "      <td>0.133891</td>\n",
       "      <td>0.100000</td>\n",
       "      <td>0.098765</td>\n",
       "    </tr>\n",
       "    <tr>\n",
       "      <th>3</th>\n",
       "      <td>4</td>\n",
       "      <td>0.099770</td>\n",
       "      <td>0.248705</td>\n",
       "      <td>0.252525</td>\n",
       "      <td>0.226131</td>\n",
       "      <td>0.214286</td>\n",
       "      <td>0.226131</td>\n",
       "      <td>0.208955</td>\n",
       "      <td>0.188406</td>\n",
       "      <td>0.180095</td>\n",
       "      <td>...</td>\n",
       "      <td>0.128514</td>\n",
       "      <td>0.128514</td>\n",
       "      <td>0.120968</td>\n",
       "      <td>0.104839</td>\n",
       "      <td>0.082677</td>\n",
       "      <td>0.062257</td>\n",
       "      <td>0.054688</td>\n",
       "      <td>0.050193</td>\n",
       "      <td>0.050388</td>\n",
       "      <td>0.049808</td>\n",
       "    </tr>\n",
       "    <tr>\n",
       "      <th>4</th>\n",
       "      <td>5</td>\n",
       "      <td>0.068314</td>\n",
       "      <td>0.139344</td>\n",
       "      <td>0.135021</td>\n",
       "      <td>0.119149</td>\n",
       "      <td>0.128205</td>\n",
       "      <td>0.111588</td>\n",
       "      <td>0.085837</td>\n",
       "      <td>0.085106</td>\n",
       "      <td>0.088235</td>\n",
       "      <td>...</td>\n",
       "      <td>0.149194</td>\n",
       "      <td>0.131474</td>\n",
       "      <td>0.108000</td>\n",
       "      <td>0.089796</td>\n",
       "      <td>0.052419</td>\n",
       "      <td>0.044355</td>\n",
       "      <td>0.028571</td>\n",
       "      <td>0.020161</td>\n",
       "      <td>0.019841</td>\n",
       "      <td>0.011858</td>\n",
       "    </tr>\n",
       "  </tbody>\n",
       "</table>\n",
       "<p>5 rows × 38 columns</p>\n",
       "</div>"
      ],
      "text/plain": [
       "   Random Generator       bet   02-2018   04-2018   06-2018   08-2018  \\\n",
       "0                 1  0.085038  0.165179  0.152466  0.140909  0.112108   \n",
       "1                 2  0.169913  0.446154  0.429119  0.432950  0.362595   \n",
       "2                 3  0.210453  0.433333  0.434599  0.506276  0.559184   \n",
       "3                 4  0.099770  0.248705  0.252525  0.226131  0.214286   \n",
       "4                 5  0.068314  0.139344  0.135021  0.119149  0.128205   \n",
       "\n",
       "    10-2018   12-2018   02-2019   04-2019  ...   06-2022   08-2022   10-2022  \\\n",
       "0  0.109091  0.110092  0.123288  0.126126  ...  0.144737  0.134199  0.121212   \n",
       "1  0.352273  0.356589  0.325490  0.310757  ...  0.293436  0.272374  0.231373   \n",
       "2  0.576613  0.568465  0.481013  0.471861  ...  0.343478  0.257642  0.241379   \n",
       "3  0.226131  0.208955  0.188406  0.180095  ...  0.128514  0.128514  0.120968   \n",
       "4  0.111588  0.085837  0.085106  0.088235  ...  0.149194  0.131474  0.108000   \n",
       "\n",
       "    12-2022   02-2023   04-2023   06-2023   08-2023   10-2023   12-2023  \n",
       "0  0.107296  0.088235  0.066946  0.048980  0.044898  0.037344  0.036885  \n",
       "1  0.200787  0.195312  0.162698  0.108108  0.082677  0.062016  0.058140  \n",
       "2  0.230435  0.222707  0.182979  0.150000  0.133891  0.100000  0.098765  \n",
       "3  0.104839  0.082677  0.062257  0.054688  0.050193  0.050388  0.049808  \n",
       "4  0.089796  0.052419  0.044355  0.028571  0.020161  0.019841  0.011858  \n",
       "\n",
       "[5 rows x 38 columns]"
      ]
     },
     "execution_count": 52,
     "metadata": {},
     "output_type": "execute_result"
    }
   ],
   "source": [
    "out6c.head()"
   ]
  },
  {
   "cell_type": "code",
   "execution_count": 53,
   "metadata": {},
   "outputs": [],
   "source": [
    "summary6ab = pd.DataFrame({'Median': out6ab.iloc[:, 2:].median(),\n",
    "                           '25th Percentile': out6ab.iloc[:, 2:].quantile(0.25),\n",
    "                           '75th Percentile': out6ab.iloc[:, 2:].quantile(0.75)})"
   ]
  },
  {
   "cell_type": "code",
   "execution_count": 54,
   "metadata": {},
   "outputs": [],
   "source": [
    "summary6c = pd.DataFrame({'Median': out6c.iloc[:, 2:].median(),\n",
    "                          '25th Percentile': out6c.iloc[:, 2:].quantile(0.25),\n",
    "                          '75th Percentile': out6c.iloc[:, 2:].quantile(0.75)})"
   ]
  },
  {
   "cell_type": "markdown",
   "metadata": {},
   "source": [
    "Plot the descriptive statistics."
   ]
  },
  {
   "cell_type": "code",
   "execution_count": 55,
   "metadata": {},
   "outputs": [
    {
     "data": {
      "text/plain": [
       "<matplotlib.axes._subplots.AxesSubplot at 0x7fcc3f2a0e10>"
      ]
     },
     "execution_count": 55,
     "metadata": {},
     "output_type": "execute_result"
    },
    {
     "data": {
      "image/png": "[encoded data removed]",
      "text/plain": [
       "<Figure size 864x432 with 1 Axes>"
      ]
     },
     "metadata": {
      "needs_background": "light"
     },
     "output_type": "display_data"
    }
   ],
   "source": [
    "summary6ab.plot(title='Scenario 6, Separate Runs')"
   ]
  },
  {
   "cell_type": "code",
   "execution_count": 56,
   "metadata": {
    "scrolled": true
   },
   "outputs": [
    {
     "data": {
      "text/plain": [
       "<matplotlib.axes._subplots.AxesSubplot at 0x7fcc40728490>"
      ]
     },
     "execution_count": 56,
     "metadata": {},
     "output_type": "execute_result"
    },
    {
     "data": {
      "image/png": "[encoded data removed]",
      "text/plain": [
       "<Figure size 864x432 with 1 Axes>"
      ]
     },
     "metadata": {
      "needs_background": "light"
     },
     "output_type": "display_data"
    }
   ],
   "source": [
    "summary6c.plot(title='Scenario 6, Unique Run')"
   ]
  },
  {
   "cell_type": "markdown",
   "metadata": {},
   "source": [
    "Calculate the differences."
   ]
  },
  {
   "cell_type": "code",
   "execution_count": 57,
   "metadata": {},
   "outputs": [],
   "source": [
    "diff = out6ab - out6c"
   ]
  },
  {
   "cell_type": "markdown",
   "metadata": {},
   "source": [
    "Display the differences for the first few rows."
   ]
  },
  {
   "cell_type": "code",
   "execution_count": 58,
   "metadata": {
    "scrolled": true
   },
   "outputs": [
    {
     "data": {
      "text/html": [
       "<div>\n",
       "<style scoped>\n",
       "    .dataframe tbody tr th:only-of-type {\n",
       "        vertical-align: middle;\n",
       "    }\n",
       "\n",
       "    .dataframe tbody tr th {\n",
       "        vertical-align: top;\n",
       "    }\n",
       "\n",
       "    .dataframe thead th {\n",
       "        text-align: right;\n",
       "    }\n",
       "</style>\n",
       "<table border=\"1\" class=\"dataframe\">\n",
       "  <thead>\n",
       "    <tr style=\"text-align: right;\">\n",
       "      <th></th>\n",
       "      <th>Random Generator</th>\n",
       "      <th>bet</th>\n",
       "      <th>02-2018</th>\n",
       "      <th>04-2018</th>\n",
       "      <th>06-2018</th>\n",
       "      <th>08-2018</th>\n",
       "      <th>10-2018</th>\n",
       "      <th>12-2018</th>\n",
       "      <th>02-2019</th>\n",
       "      <th>04-2019</th>\n",
       "      <th>...</th>\n",
       "      <th>06-2022</th>\n",
       "      <th>08-2022</th>\n",
       "      <th>10-2022</th>\n",
       "      <th>12-2022</th>\n",
       "      <th>02-2023</th>\n",
       "      <th>04-2023</th>\n",
       "      <th>06-2023</th>\n",
       "      <th>08-2023</th>\n",
       "      <th>10-2023</th>\n",
       "      <th>12-2023</th>\n",
       "    </tr>\n",
       "  </thead>\n",
       "  <tbody>\n",
       "    <tr>\n",
       "      <th>0</th>\n",
       "      <td>0</td>\n",
       "      <td>0.0</td>\n",
       "      <td>0.0</td>\n",
       "      <td>0.0</td>\n",
       "      <td>0.0</td>\n",
       "      <td>0.0</td>\n",
       "      <td>0.0</td>\n",
       "      <td>0.0</td>\n",
       "      <td>0.0</td>\n",
       "      <td>0.0</td>\n",
       "      <td>...</td>\n",
       "      <td>0.0</td>\n",
       "      <td>0.0</td>\n",
       "      <td>0.0</td>\n",
       "      <td>0.0</td>\n",
       "      <td>0.0</td>\n",
       "      <td>0.0</td>\n",
       "      <td>0.0</td>\n",
       "      <td>0.0</td>\n",
       "      <td>0.0</td>\n",
       "      <td>0.0</td>\n",
       "    </tr>\n",
       "    <tr>\n",
       "      <th>1</th>\n",
       "      <td>0</td>\n",
       "      <td>0.0</td>\n",
       "      <td>0.0</td>\n",
       "      <td>0.0</td>\n",
       "      <td>0.0</td>\n",
       "      <td>0.0</td>\n",
       "      <td>0.0</td>\n",
       "      <td>0.0</td>\n",
       "      <td>0.0</td>\n",
       "      <td>0.0</td>\n",
       "      <td>...</td>\n",
       "      <td>0.0</td>\n",
       "      <td>0.0</td>\n",
       "      <td>0.0</td>\n",
       "      <td>0.0</td>\n",
       "      <td>0.0</td>\n",
       "      <td>0.0</td>\n",
       "      <td>0.0</td>\n",
       "      <td>0.0</td>\n",
       "      <td>0.0</td>\n",
       "      <td>0.0</td>\n",
       "    </tr>\n",
       "    <tr>\n",
       "      <th>2</th>\n",
       "      <td>0</td>\n",
       "      <td>0.0</td>\n",
       "      <td>0.0</td>\n",
       "      <td>0.0</td>\n",
       "      <td>0.0</td>\n",
       "      <td>0.0</td>\n",
       "      <td>0.0</td>\n",
       "      <td>0.0</td>\n",
       "      <td>0.0</td>\n",
       "      <td>0.0</td>\n",
       "      <td>...</td>\n",
       "      <td>0.0</td>\n",
       "      <td>0.0</td>\n",
       "      <td>0.0</td>\n",
       "      <td>0.0</td>\n",
       "      <td>0.0</td>\n",
       "      <td>0.0</td>\n",
       "      <td>0.0</td>\n",
       "      <td>0.0</td>\n",
       "      <td>0.0</td>\n",
       "      <td>0.0</td>\n",
       "    </tr>\n",
       "    <tr>\n",
       "      <th>3</th>\n",
       "      <td>0</td>\n",
       "      <td>0.0</td>\n",
       "      <td>0.0</td>\n",
       "      <td>0.0</td>\n",
       "      <td>0.0</td>\n",
       "      <td>0.0</td>\n",
       "      <td>0.0</td>\n",
       "      <td>0.0</td>\n",
       "      <td>0.0</td>\n",
       "      <td>0.0</td>\n",
       "      <td>...</td>\n",
       "      <td>0.0</td>\n",
       "      <td>0.0</td>\n",
       "      <td>0.0</td>\n",
       "      <td>0.0</td>\n",
       "      <td>0.0</td>\n",
       "      <td>0.0</td>\n",
       "      <td>0.0</td>\n",
       "      <td>0.0</td>\n",
       "      <td>0.0</td>\n",
       "      <td>0.0</td>\n",
       "    </tr>\n",
       "    <tr>\n",
       "      <th>4</th>\n",
       "      <td>0</td>\n",
       "      <td>0.0</td>\n",
       "      <td>0.0</td>\n",
       "      <td>0.0</td>\n",
       "      <td>0.0</td>\n",
       "      <td>0.0</td>\n",
       "      <td>0.0</td>\n",
       "      <td>0.0</td>\n",
       "      <td>0.0</td>\n",
       "      <td>0.0</td>\n",
       "      <td>...</td>\n",
       "      <td>0.0</td>\n",
       "      <td>0.0</td>\n",
       "      <td>0.0</td>\n",
       "      <td>0.0</td>\n",
       "      <td>0.0</td>\n",
       "      <td>0.0</td>\n",
       "      <td>0.0</td>\n",
       "      <td>0.0</td>\n",
       "      <td>0.0</td>\n",
       "      <td>0.0</td>\n",
       "    </tr>\n",
       "  </tbody>\n",
       "</table>\n",
       "<p>5 rows × 38 columns</p>\n",
       "</div>"
      ],
      "text/plain": [
       "   Random Generator  bet  02-2018  04-2018  06-2018  08-2018  10-2018  \\\n",
       "0                 0  0.0      0.0      0.0      0.0      0.0      0.0   \n",
       "1                 0  0.0      0.0      0.0      0.0      0.0      0.0   \n",
       "2                 0  0.0      0.0      0.0      0.0      0.0      0.0   \n",
       "3                 0  0.0      0.0      0.0      0.0      0.0      0.0   \n",
       "4                 0  0.0      0.0      0.0      0.0      0.0      0.0   \n",
       "\n",
       "   12-2018  02-2019  04-2019  ...  06-2022  08-2022  10-2022  12-2022  \\\n",
       "0      0.0      0.0      0.0  ...      0.0      0.0      0.0      0.0   \n",
       "1      0.0      0.0      0.0  ...      0.0      0.0      0.0      0.0   \n",
       "2      0.0      0.0      0.0  ...      0.0      0.0      0.0      0.0   \n",
       "3      0.0      0.0      0.0  ...      0.0      0.0      0.0      0.0   \n",
       "4      0.0      0.0      0.0  ...      0.0      0.0      0.0      0.0   \n",
       "\n",
       "   02-2023  04-2023  06-2023  08-2023  10-2023  12-2023  \n",
       "0      0.0      0.0      0.0      0.0      0.0      0.0  \n",
       "1      0.0      0.0      0.0      0.0      0.0      0.0  \n",
       "2      0.0      0.0      0.0      0.0      0.0      0.0  \n",
       "3      0.0      0.0      0.0      0.0      0.0      0.0  \n",
       "4      0.0      0.0      0.0      0.0      0.0      0.0  \n",
       "\n",
       "[5 rows x 38 columns]"
      ]
     },
     "execution_count": 58,
     "metadata": {},
     "output_type": "execute_result"
    }
   ],
   "source": [
    "diff.head()"
   ]
  },
  {
   "cell_type": "markdown",
   "metadata": {},
   "source": [
    "Calculate the largest and smallest difference."
   ]
  },
  {
   "cell_type": "code",
   "execution_count": 59,
   "metadata": {},
   "outputs": [
    {
     "name": "stdout",
     "output_type": "stream",
     "text": [
      "Largest difference: 0.00\n",
      "Smallest difference: 0.00\n"
     ]
    }
   ],
   "source": [
    "print('Largest difference: ' + format(np.min(diff.values), '.2f'))\n",
    "print('Smallest difference: ' + format(np.max(diff.values), '.2f'))"
   ]
  },
  {
   "cell_type": "code",
   "execution_count": null,
   "metadata": {},
   "outputs": [],
   "source": []
  }
 ],
 "metadata": {
  "kernelspec": {
   "display_name": "Python 3",
   "language": "python",
   "name": "python3"
  },
  "language_info": {
   "codemirror_mode": {
    "name": "ipython",
    "version": 3
   },
   "file_extension": ".py",
   "mimetype": "text/x-python",
   "name": "python",
   "nbconvert_exporter": "python",
   "pygments_lexer": "ipython3",
   "version": "3.7.6"
  }
 },
 "nbformat": 4,
 "nbformat_minor": 4
}
